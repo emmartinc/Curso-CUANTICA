{
  "cells": [
    {
      "cell_type": "markdown",
      "metadata": {
        "id": "view-in-github",
        "colab_type": "text"
      },
      "source": [
        "<a href=\"https://colab.research.google.com/github/emmartinc/Curso-CUANTICA/blob/main/Algoritmos%20cu%C3%A1nticos%20cl%C3%A1sicos.ipynb\" target=\"_parent\"><img src=\"https://colab.research.google.com/assets/colab-badge.svg\" alt=\"Open In Colab\"/></a>"
      ]
    },
    {
      "cell_type": "code",
      "source": [
        "# Instalamos qiskit en el notebook\n",
        "!pip install qiskit qiskit-aer qiskit-ibm-runtime pylatexenc"
      ],
      "metadata": {
        "id": "YR9SbvZAQiqY",
        "colab": {
          "base_uri": "https://localhost:8080/"
        },
        "outputId": "bdd80741-c907-4d04-9816-6dfee44bebf3"
      },
      "id": "YR9SbvZAQiqY",
      "execution_count": 1,
      "outputs": [
        {
          "output_type": "stream",
          "name": "stdout",
          "text": [
            "Collecting qiskit\n",
            "  Downloading qiskit-2.1.0-cp39-abi3-manylinux_2_17_x86_64.manylinux2014_x86_64.whl.metadata (12 kB)\n",
            "Collecting qiskit-aer\n",
            "  Downloading qiskit_aer-0.17.1-cp311-cp311-manylinux_2_17_x86_64.manylinux2014_x86_64.whl.metadata (8.3 kB)\n",
            "Collecting qiskit-ibm-runtime\n",
            "  Downloading qiskit_ibm_runtime-0.40.1-py3-none-any.whl.metadata (21 kB)\n",
            "Collecting pylatexenc\n",
            "  Downloading pylatexenc-2.10.tar.gz (162 kB)\n",
            "\u001b[2K     \u001b[90m━━━━━━━━━━━━━━━━━━━━━━━━━━━━━━━━━━━━━━━\u001b[0m \u001b[32m162.6/162.6 kB\u001b[0m \u001b[31m4.3 MB/s\u001b[0m eta \u001b[36m0:00:00\u001b[0m\n",
            "\u001b[?25h  Preparing metadata (setup.py) ... \u001b[?25l\u001b[?25hdone\n",
            "Collecting rustworkx>=0.15.0 (from qiskit)\n",
            "  Downloading rustworkx-0.16.0-cp39-abi3-manylinux_2_17_x86_64.manylinux2014_x86_64.whl.metadata (10 kB)\n",
            "Requirement already satisfied: numpy<3,>=1.17 in /usr/local/lib/python3.11/dist-packages (from qiskit) (2.0.2)\n",
            "Requirement already satisfied: scipy>=1.5 in /usr/local/lib/python3.11/dist-packages (from qiskit) (1.15.3)\n",
            "Requirement already satisfied: dill>=0.3 in /usr/local/lib/python3.11/dist-packages (from qiskit) (0.3.7)\n",
            "Collecting stevedore>=3.0.0 (from qiskit)\n",
            "  Downloading stevedore-5.4.1-py3-none-any.whl.metadata (2.3 kB)\n",
            "Requirement already satisfied: typing-extensions in /usr/local/lib/python3.11/dist-packages (from qiskit) (4.14.0)\n",
            "Requirement already satisfied: psutil>=5 in /usr/local/lib/python3.11/dist-packages (from qiskit-aer) (5.9.5)\n",
            "Requirement already satisfied: python-dateutil>=2.8.0 in /usr/local/lib/python3.11/dist-packages (from qiskit-aer) (2.9.0.post0)\n",
            "Requirement already satisfied: requests>=2.19 in /usr/local/lib/python3.11/dist-packages (from qiskit-ibm-runtime) (2.32.3)\n",
            "Collecting requests-ntlm>=1.1.0 (from qiskit-ibm-runtime)\n",
            "  Downloading requests_ntlm-1.3.0-py3-none-any.whl.metadata (2.4 kB)\n",
            "Requirement already satisfied: urllib3>=1.21.1 in /usr/local/lib/python3.11/dist-packages (from qiskit-ibm-runtime) (2.4.0)\n",
            "Collecting ibm-platform-services>=0.22.6 (from qiskit-ibm-runtime)\n",
            "  Downloading ibm_platform_services-0.66.2-py3-none-any.whl.metadata (9.0 kB)\n",
            "Requirement already satisfied: pydantic>=2.5.0 in /usr/local/lib/python3.11/dist-packages (from qiskit-ibm-runtime) (2.11.7)\n",
            "Requirement already satisfied: packaging in /usr/local/lib/python3.11/dist-packages (from qiskit-ibm-runtime) (24.2)\n",
            "Collecting ibm_cloud_sdk_core<4.0.0,>=3.24.2 (from ibm-platform-services>=0.22.6->qiskit-ibm-runtime)\n",
            "  Downloading ibm_cloud_sdk_core-3.24.2-py3-none-any.whl.metadata (8.7 kB)\n",
            "Requirement already satisfied: annotated-types>=0.6.0 in /usr/local/lib/python3.11/dist-packages (from pydantic>=2.5.0->qiskit-ibm-runtime) (0.7.0)\n",
            "Requirement already satisfied: pydantic-core==2.33.2 in /usr/local/lib/python3.11/dist-packages (from pydantic>=2.5.0->qiskit-ibm-runtime) (2.33.2)\n",
            "Requirement already satisfied: typing-inspection>=0.4.0 in /usr/local/lib/python3.11/dist-packages (from pydantic>=2.5.0->qiskit-ibm-runtime) (0.4.1)\n",
            "Requirement already satisfied: six>=1.5 in /usr/local/lib/python3.11/dist-packages (from python-dateutil>=2.8.0->qiskit-aer) (1.17.0)\n",
            "Requirement already satisfied: charset-normalizer<4,>=2 in /usr/local/lib/python3.11/dist-packages (from requests>=2.19->qiskit-ibm-runtime) (3.4.2)\n",
            "Requirement already satisfied: idna<4,>=2.5 in /usr/local/lib/python3.11/dist-packages (from requests>=2.19->qiskit-ibm-runtime) (3.10)\n",
            "Requirement already satisfied: certifi>=2017.4.17 in /usr/local/lib/python3.11/dist-packages (from requests>=2.19->qiskit-ibm-runtime) (2025.6.15)\n",
            "Requirement already satisfied: cryptography>=1.3 in /usr/local/lib/python3.11/dist-packages (from requests-ntlm>=1.1.0->qiskit-ibm-runtime) (43.0.3)\n",
            "Collecting pyspnego>=0.4.0 (from requests-ntlm>=1.1.0->qiskit-ibm-runtime)\n",
            "  Downloading pyspnego-0.11.2-py3-none-any.whl.metadata (5.4 kB)\n",
            "Collecting pbr>=2.0.0 (from stevedore>=3.0.0->qiskit)\n",
            "  Downloading pbr-6.1.1-py2.py3-none-any.whl.metadata (3.4 kB)\n",
            "Requirement already satisfied: cffi>=1.12 in /usr/local/lib/python3.11/dist-packages (from cryptography>=1.3->requests-ntlm>=1.1.0->qiskit-ibm-runtime) (1.17.1)\n",
            "Collecting requests>=2.19 (from qiskit-ibm-runtime)\n",
            "  Downloading requests-2.32.4-py3-none-any.whl.metadata (4.9 kB)\n",
            "Requirement already satisfied: PyJWT<3.0.0,>=2.10.1 in /usr/local/lib/python3.11/dist-packages (from ibm_cloud_sdk_core<4.0.0,>=3.24.2->ibm-platform-services>=0.22.6->qiskit-ibm-runtime) (2.10.1)\n",
            "Requirement already satisfied: setuptools in /usr/local/lib/python3.11/dist-packages (from pbr>=2.0.0->stevedore>=3.0.0->qiskit) (75.2.0)\n",
            "Requirement already satisfied: pycparser in /usr/local/lib/python3.11/dist-packages (from cffi>=1.12->cryptography>=1.3->requests-ntlm>=1.1.0->qiskit-ibm-runtime) (2.22)\n",
            "Downloading qiskit-2.1.0-cp39-abi3-manylinux_2_17_x86_64.manylinux2014_x86_64.whl (7.5 MB)\n",
            "\u001b[2K   \u001b[90m━━━━━━━━━━━━━━━━━━━━━━━━━━━━━━━━━━━━━━━━\u001b[0m \u001b[32m7.5/7.5 MB\u001b[0m \u001b[31m69.9 MB/s\u001b[0m eta \u001b[36m0:00:00\u001b[0m\n",
            "\u001b[?25hDownloading qiskit_aer-0.17.1-cp311-cp311-manylinux_2_17_x86_64.manylinux2014_x86_64.whl (12.4 MB)\n",
            "\u001b[2K   \u001b[90m━━━━━━━━━━━━━━━━━━━━━━━━━━━━━━━━━━━━━━━━\u001b[0m \u001b[32m12.4/12.4 MB\u001b[0m \u001b[31m106.9 MB/s\u001b[0m eta \u001b[36m0:00:00\u001b[0m\n",
            "\u001b[?25hDownloading qiskit_ibm_runtime-0.40.1-py3-none-any.whl (3.2 MB)\n",
            "\u001b[2K   \u001b[90m━━━━━━━━━━━━━━━━━━━━━━━━━━━━━━━━━━━━━━━━\u001b[0m \u001b[32m3.2/3.2 MB\u001b[0m \u001b[31m80.4 MB/s\u001b[0m eta \u001b[36m0:00:00\u001b[0m\n",
            "\u001b[?25hDownloading ibm_platform_services-0.66.2-py3-none-any.whl (363 kB)\n",
            "\u001b[2K   \u001b[90m━━━━━━━━━━━━━━━━━━━━━━━━━━━━━━━━━━━━━━━━\u001b[0m \u001b[32m363.9/363.9 kB\u001b[0m \u001b[31m26.3 MB/s\u001b[0m eta \u001b[36m0:00:00\u001b[0m\n",
            "\u001b[?25hDownloading requests_ntlm-1.3.0-py3-none-any.whl (6.6 kB)\n",
            "Downloading rustworkx-0.16.0-cp39-abi3-manylinux_2_17_x86_64.manylinux2014_x86_64.whl (2.1 MB)\n",
            "\u001b[2K   \u001b[90m━━━━━━━━━━━━━━━━━━━━━━━━━━━━━━━━━━━━━━━━\u001b[0m \u001b[32m2.1/2.1 MB\u001b[0m \u001b[31m74.1 MB/s\u001b[0m eta \u001b[36m0:00:00\u001b[0m\n",
            "\u001b[?25hDownloading stevedore-5.4.1-py3-none-any.whl (49 kB)\n",
            "\u001b[2K   \u001b[90m━━━━━━━━━━━━━━━━━━━━━━━━━━━━━━━━━━━━━━━━\u001b[0m \u001b[32m49.5/49.5 kB\u001b[0m \u001b[31m3.9 MB/s\u001b[0m eta \u001b[36m0:00:00\u001b[0m\n",
            "\u001b[?25hDownloading ibm_cloud_sdk_core-3.24.2-py3-none-any.whl (75 kB)\n",
            "\u001b[2K   \u001b[90m━━━━━━━━━━━━━━━━━━━━━━━━━━━━━━━━━━━━━━━━\u001b[0m \u001b[32m75.8/75.8 kB\u001b[0m \u001b[31m6.1 MB/s\u001b[0m eta \u001b[36m0:00:00\u001b[0m\n",
            "\u001b[?25hDownloading requests-2.32.4-py3-none-any.whl (64 kB)\n",
            "\u001b[2K   \u001b[90m━━━━━━━━━━━━━━━━━━━━━━━━━━━━━━━━━━━━━━━━\u001b[0m \u001b[32m64.8/64.8 kB\u001b[0m \u001b[31m5.5 MB/s\u001b[0m eta \u001b[36m0:00:00\u001b[0m\n",
            "\u001b[?25hDownloading pbr-6.1.1-py2.py3-none-any.whl (108 kB)\n",
            "\u001b[2K   \u001b[90m━━━━━━━━━━━━━━━━━━━━━━━━━━━━━━━━━━━━━━━━\u001b[0m \u001b[32m109.0/109.0 kB\u001b[0m \u001b[31m9.1 MB/s\u001b[0m eta \u001b[36m0:00:00\u001b[0m\n",
            "\u001b[?25hDownloading pyspnego-0.11.2-py3-none-any.whl (130 kB)\n",
            "\u001b[2K   \u001b[90m━━━━━━━━━━━━━━━━━━━━━━━━━━━━━━━━━━━━━━━━\u001b[0m \u001b[32m130.5/130.5 kB\u001b[0m \u001b[31m11.4 MB/s\u001b[0m eta \u001b[36m0:00:00\u001b[0m\n",
            "\u001b[?25hBuilding wheels for collected packages: pylatexenc\n",
            "  Building wheel for pylatexenc (setup.py) ... \u001b[?25l\u001b[?25hdone\n",
            "  Created wheel for pylatexenc: filename=pylatexenc-2.10-py3-none-any.whl size=136817 sha256=e92c71f675ddff293d8ab4e7877fa2823162b041b07c9c50d0fe307cefc34294\n",
            "  Stored in directory: /root/.cache/pip/wheels/b1/7a/33/9fdd892f784ed4afda62b685ae3703adf4c91aa0f524c28f03\n",
            "Successfully built pylatexenc\n",
            "Installing collected packages: pylatexenc, rustworkx, requests, pbr, stevedore, ibm_cloud_sdk_core, qiskit, pyspnego, ibm-platform-services, requests-ntlm, qiskit-aer, qiskit-ibm-runtime\n",
            "  Attempting uninstall: requests\n",
            "    Found existing installation: requests 2.32.3\n",
            "    Uninstalling requests-2.32.3:\n",
            "      Successfully uninstalled requests-2.32.3\n",
            "\u001b[31mERROR: pip's dependency resolver does not currently take into account all the packages that are installed. This behaviour is the source of the following dependency conflicts.\n",
            "google-colab 1.0.0 requires requests==2.32.3, but you have requests 2.32.4 which is incompatible.\u001b[0m\u001b[31m\n",
            "\u001b[0mSuccessfully installed ibm-platform-services-0.66.2 ibm_cloud_sdk_core-3.24.2 pbr-6.1.1 pylatexenc-2.10 pyspnego-0.11.2 qiskit-2.1.0 qiskit-aer-0.17.1 qiskit-ibm-runtime-0.40.1 requests-2.32.4 requests-ntlm-1.3.0 rustworkx-0.16.0 stevedore-5.4.1\n"
          ]
        }
      ]
    },
    {
      "cell_type": "code",
      "source": [
        "import numpy as np\n",
        "from math import sqrt\n",
        "\n",
        "# importing Qiskit\n",
        "from qiskit import QuantumCircuit, QuantumRegister, ClassicalRegister, transpile\n",
        "from qiskit.quantum_info import Statevector, Operator\n",
        "from qiskit_aer import AerSimulator, UnitarySimulator, StatevectorSimulator\n",
        "\n",
        "# import basic plot tools\n",
        "from qiskit.visualization import plot_histogram\n",
        "\n",
        "# Funciones auxiliares\n",
        "\n",
        "# Función para obtener y mostrar el vector de estado\n",
        "def obten_estado(qcirc, etiqueta=\"|\\psi\\!\\!> = \", bloch=False):\n",
        "  estado = Statevector.from_instruction(qcirc)\n",
        "  display(estado.draw('latex', prefix=etiqueta, max_size=2**qc.num_qubits))\n",
        "  if bloch:\n",
        "    display(estado.draw('bloch'))\n",
        "\n",
        "# Funcion para obtener y mostrar la matriz unitaria\n",
        "def obten_unitaria(qcirc, etiqueta=\"U = \"):\n",
        "    unitary = Operator(qcirc)\n",
        "    display(unitary.draw('latex', prefix=etiqueta))"
      ],
      "metadata": {
        "id": "E2zYK8YGaYyE"
      },
      "id": "E2zYK8YGaYyE",
      "execution_count": 2,
      "outputs": []
    },
    {
      "cell_type": "markdown",
      "id": "unlikely-secretariat",
      "metadata": {
        "id": "unlikely-secretariat"
      },
      "source": [
        "# **Algoritmos cuánticos \"clásicos\"**\n",
        "\n",
        "Algoritmos que presentan una ventaja real sobre sus homólogos cuánticos\n",
        "\n",
        " - Introducidos en los años 90 del siglo XX\n",
        " - Suponen que tenemos computadores cuánticos ideales\n",
        " - Algunos de ellos carecen de utilidad práctica, mientras que otros suelen formar parte de algoritmos más complejos."
      ]
    },
    {
      "cell_type": "markdown",
      "id": "substantial-medline",
      "metadata": {
        "id": "substantial-medline"
      },
      "source": [
        "Contenidos\n",
        "\n",
        "1. [Paralelismo cuántico](#paralelismo)\n",
        "2. [Algoritmo \"simples\": Deutsch, Deutsch-Jozsa, Bernstein-Vazirani, Simon](#simples)\n",
        "5. [Algoritmo de búsqueda de Grover: amplificación de amplitud](#grover)\n",
        "1. [Transformada de Fourier cuántica (QFT)](#qft)\n",
        "1. [Quantum phase estimation (QPE)](#qpe)\n",
        "1. [Algoritmo de factorización de Shor](#shor)"
      ]
    },
    {
      "cell_type": "markdown",
      "id": "parental-continent",
      "metadata": {
        "id": "parental-continent"
      },
      "source": [
        "# **Paralelismo cuántico** <a name=\"paralelismo\"></a>\n",
        "\n",
        "Permite evaluar una función $f(x)$ para múltiples valores de $x$ simultáneamente."
      ]
    },
    {
      "cell_type": "markdown",
      "id": "failing-jason",
      "metadata": {
        "id": "failing-jason"
      },
      "source": [
        "Sea $f(x): \\{0,1\\}\\rightarrow\\{0,1\\}$. Para poder usar esa función en un sistema cuántico tenemos que obtener una unitaria $U_f$ que la implemente. Una forma simple es:\n",
        "\n",
        "\n",
        "<center><img src=\"https://drive.google.com/uc?export=view&id=1wE_Ts7MoneY2S4p11SqYHT4o0_SI7vEd\" alt=\"Puerta reversible\" width=\"300\"  /></center>\n",
        "\n",
        "Es fácil ver que $U_f$ es su propia inversa:\n",
        "\n",
        "<center><img src=\"https://drive.google.com/uc?export=view&id=1pHBMmR3su74ziSuXJK0p9zr1sAGejti_\" alt=\"Puerta reversible demo\" width=\"600\"  /></center>"
      ]
    },
    {
      "cell_type": "markdown",
      "id": "sharp-woman",
      "metadata": {
        "id": "sharp-woman"
      },
      "source": [
        "Para un sistema de dos cúbits $|yx\\rangle=|y\\rangle\\otimes|x\\rangle$ (siguiendo el orden de Qiskit) tenemos:\n",
        "\n",
        "$$\n",
        "U_f|yx\\rangle = |y\\oplus f(x)\\rangle\\otimes|x\\rangle\n",
        "$$\n",
        "\n",
        "Si hacemos $|x\\rangle = \\tfrac{1}{\\sqrt{2}}(|0\\rangle+|1\\rangle)$ e $|y\\rangle=|0\\rangle$:\n",
        "\n",
        "$$\n",
        "\\begin{aligned}\n",
        "U_f\\left(|0\\rangle\\otimes|\\tfrac{1}{\\sqrt{2}}(|0\\rangle+|1\\rangle)\\rangle\\right) &\n",
        "= U_f\\left(|\\tfrac{1}{\\sqrt{2}}(|00\\rangle+|01\\rangle)\\right)\n",
        "= \\tfrac{1}{\\sqrt{2}}\\left(U_f|00\\rangle+U_f|01\\rangle\\right) \\\\\n",
        "& = \\tfrac{1}{\\sqrt{2}}\\left(|0\\oplus f(0)\\rangle\\otimes|0\\rangle+|0\\oplus f(1)\\rangle\\otimes|1\\rangle\\right)\n",
        "= \\tfrac{1}{\\sqrt{2}}\\left(|f(0)\\rangle\\otimes|0\\rangle+|f(1)\\rangle\\otimes|1\\rangle\\right)\n",
        "\\end{aligned}\n",
        "$$\n",
        "\n",
        "Una única aplicación de $U_f$ obtiene a la vez $f(0)$ y $f(1)$.\n",
        "\n",
        "Este resultado se puede generalizar a un estado de $n$ cubits $|\\psi\\rangle = \\tfrac{1}{\\sqrt{2^n}}\\sum_{i=0}^{2^n-1} |i\\rangle$:\n",
        "\n",
        "$$\n",
        "U_f\\left(|0\\rangle\\otimes|\\psi\\rangle\\right) = \\frac{1}{\\sqrt{2^n}}\\sum_{i=0}^{2^n-1} |f(i)\\rangle\\otimes|i\\rangle\n",
        "$$\n",
        "\n",
        "Se evalúan simultáneamente todos los $f(x), \\forall x=0\\ldots 2^{n}-1$!\n",
        "\n",
        "&nbsp;\n",
        "\n",
        "<details>\n",
        "    <summary>¿Sirve esto para algo?</summary>\n",
        "\n",
        "Realmente, este paralelismo no sirve de mucho, ya que al medir solo vamos a obtener un valor de  $|i,f(i)\\rangle$ (y, además, no sabemos cuál va a ser!).\n",
        "</details>"
      ]
    },
    {
      "cell_type": "markdown",
      "source": [
        "\n",
        "\n",
        "---\n",
        "\n",
        "**Ejemplo**: Suma 1 a todos los elementos de un vector"
      ],
      "metadata": {
        "id": "ZyJosq-cGUd7"
      },
      "id": "ZyJosq-cGUd7"
    },
    {
      "cell_type": "code",
      "source": [
        "n = 3\n",
        "v = [0, 3, 5, 6]\n",
        "norm_factor = 1/sqrt(len(v))\n",
        "\n",
        "# Codifica el vector como una superposición de estados base\n",
        "e_inicial = norm_factor*Statevector.from_int(v[0], dims=2**n)\n",
        "for i in v[1:]:\n",
        "  e_inicial += norm_factor*Statevector.from_int(i, dims=2**n)\n",
        "\n",
        "# Circuito suma 1 simple\n",
        "qc = QuantumCircuit(n)\n",
        "qc.ccx(0,1,2)\n",
        "qc.cx(0,1)\n",
        "qc.x(0)\n",
        "\n",
        "display(qc.draw('mpl'))\n",
        "\n",
        "# Evoluciona el estado inicial sobre el circuito\n",
        "e_final = e_inicial.evolve(qc)\n",
        "\n",
        "display(e_inicial.draw('latex', prefix = '|e_i\\\\rangle = '))\n",
        "display(e_final.draw('latex', prefix = '|e_f\\\\rangle = '))"
      ],
      "metadata": {
        "id": "CGXDvSAYHZo8",
        "colab": {
          "base_uri": "https://localhost:8080/",
          "height": 298
        },
        "outputId": "d4872a7b-5f52-4de8-a94d-c334a7e42fc6"
      },
      "id": "CGXDvSAYHZo8",
      "execution_count": 3,
      "outputs": [
        {
          "output_type": "display_data",
          "data": {
            "text/plain": [
              "<Figure size 371.107x284.278 with 1 Axes>"
            ],
            "image/png": "[encoded data removed]"
          },
          "metadata": {}
        },
        {
          "output_type": "display_data",
          "data": {
            "text/plain": [
              "<IPython.core.display.Latex object>"
            ],
            "text/latex": "$$|e_i\\rangle = \\frac{1}{2} |000\\rangle+\\frac{1}{2} |011\\rangle+\\frac{1}{2} |101\\rangle+\\frac{1}{2} |110\\rangle$$"
          },
          "metadata": {}
        },
        {
          "output_type": "display_data",
          "data": {
            "text/plain": [
              "<IPython.core.display.Latex object>"
            ],
            "text/latex": "$$|e_f\\rangle = \\frac{1}{2} |001\\rangle+\\frac{1}{2} |100\\rangle+\\frac{1}{2} |110\\rangle+\\frac{1}{2} |111\\rangle$$"
          },
          "metadata": {}
        }
      ]
    },
    {
      "cell_type": "markdown",
      "source": [
        "\n",
        "\n",
        "---\n",
        "\n"
      ],
      "metadata": {
        "id": "QJN0lo3_Ojr1"
      },
      "id": "QJN0lo3_Ojr1"
    },
    {
      "cell_type": "markdown",
      "source": [
        "#### Oráculos cuánticos\n",
        "\n",
        "Función de \"caja negra\" de la que solo podemos conocer su salida dada una entrada.\n",
        "\n",
        "Los primeros algoritmos que veremos permiten extraer propiedades de un oráculo.\n"
      ],
      "metadata": {
        "id": "heg7zQcu9ViH"
      },
      "id": "heg7zQcu9ViH"
    },
    {
      "cell_type": "markdown",
      "id": "87fcb3d9",
      "metadata": {
        "id": "87fcb3d9"
      },
      "source": [
        "-------------------------------\n",
        "-------------------------------\n",
        "-------------------------------"
      ]
    },
    {
      "cell_type": "markdown",
      "source": [
        "# **Algoritmos \"simples\"**<a name=\"simples\"></a>\n",
        "\n",
        "Algoritmos que muestran ventaja sobre sus versiones clásicas."
      ],
      "metadata": {
        "id": "MG4MYuKHDu8u"
      },
      "id": "MG4MYuKHDu8u"
    },
    {
      "cell_type": "markdown",
      "id": "built-provision",
      "metadata": {
        "id": "built-provision"
      },
      "source": [
        "## Algoritmo de Deutsch <a id=\"deutsch\"></a>\n",
        "\n",
        "Sea una función oráculo $f(x): \\{0,1\\}\\rightarrow\\{0,1\\}$. Esta función se denomina:\n",
        "\n",
        "- Constante: si $f(0)=f(1)$\n",
        "- Balanceada: si $f(0)\\ne f(1)$\n",
        "\n",
        "Solo hay 4 funciones de este tipo:\n",
        "\n",
        "<center><img src=\"https://drive.google.com/uc?export=view&id=1k5miZdzWjNI-3QBhNfq4zCtMzeo2zJeS\" alt=\"Oraculos 1 bit\" width=\"600\"  /></center>\n",
        "\n",
        "Las dos primeras ($f_0(x) = x$ y $f_1(x)=\\bar x$) son balanceadas y las dos siguientes ($f_2(x) = 0$ y $f_3(x)=1$) son constantes.\n",
        "\n",
        "Dada una de estas funciones $f(x)$ desconocida, un algoritmo clásico necesita 2 llamadas al oráculo $f$ para determinar si es constante o balanceada.\n",
        "\n",
        "El **algoritmo cuántico de Deutsch** puede determinarlo con una sola llamada al oráculo $f$.\n",
        "\n",
        "Partimos del circuito siguiente:\n",
        "\n",
        "\n",
        "<center><img src=\"https://drive.google.com/uc?export=view&id=1aTCW5wZ3_UDNttVgWqC7igp5EyEDf1Em\" alt=\"Deutsch\" width=\"600\"  /></center>\n"
      ]
    },
    {
      "cell_type": "markdown",
      "id": "thirty-madrid",
      "metadata": {
        "id": "thirty-madrid"
      },
      "source": [
        "Estado después de la puerta X:\n",
        "$$\n",
        "|\\psi_0\\rangle = |10\\rangle\n",
        "$$\n",
        "\n",
        "Estado despues de las H:\n",
        "$$\n",
        "|\\psi_1\\rangle = |-+\\rangle = \\frac{|0\\rangle - |1\\rangle}{\\sqrt{2}}\\otimes \\frac{|0\\rangle + |1\\rangle}{\\sqrt{2}} = |y\\rangle \\otimes|x\\rangle\n",
        "$$\n",
        "\n",
        "Y se tiene que:\n",
        "\n",
        "$$\n",
        "y\\oplus f(x) = \\frac{|0\\rangle - |1\\rangle}{\\sqrt{2}}\\oplus f(x) = \\frac{|0\\oplus f(x)\\rangle - |1\\oplus f(x)\\rangle}{\\sqrt{2}} =\n",
        "\\begin{cases}\n",
        "\\frac{|0\\rangle - |1\\rangle}{\\sqrt{2}}, & \\text{si } f(x) = 0\\\\\n",
        "\\frac{|1\\rangle - |0\\rangle}{\\sqrt{2}}, & \\text{si } f(x) = 1\n",
        "\\end{cases}\n",
        "$$\n",
        "\n",
        "por lo que podemos escribir:\n",
        "$$\n",
        "y\\oplus f(x) = (-1)^{f(x)}\\frac{|0\\rangle - |1\\rangle}{\\sqrt{2}}\n",
        "$$\n",
        "\n",
        "De aquí se tiene que:\n",
        "\n",
        "$$\n",
        "|\\psi_2\\rangle = \\frac{1}{\\sqrt{2}}(-1)^{f(x)} (|0\\rangle - |1\\rangle)\\otimes |x\\rangle =\n",
        "\\frac{1}{\\sqrt{2}} (|0\\rangle - |1\\rangle)\\otimes (-1)^{f(x)}|x\\rangle\n",
        "$$\n",
        "Y podemos escribir:\n",
        "$$\n",
        "(-1)^{f(x)}|x\\rangle = |(-1)^{f(x)}x\\rangle =\n",
        "\\frac{(-1)^{f(0)}|0\\rangle + (-1)^{f(1)}|1\\rangle}{\\sqrt{2}}\n",
        "$$\n",
        "\n",
        "Por lo tanto, el estado $|\\psi_2\\rangle$ queda:\n",
        "$$\n",
        "|\\psi_2\\rangle =\n",
        "\\frac{|0\\rangle - |1\\rangle}{\\sqrt{2}}\\otimes\n",
        "\\frac{(-1)^{f(0)}|0\\rangle + (-1)^{f(1)}|1\\rangle}{\\sqrt{2}} =\n",
        "\\begin{cases}\n",
        "\\pm\\left[\\frac{|0\\rangle - |1\\rangle}{\\sqrt{2}}\\right] \\otimes \\left[\\frac{|0\\rangle + |1\\rangle}{\\sqrt{2}}\\right], & \\text{si } f(0) = f(1)\\\\\\mbox{}\\\\\n",
        "\\pm\\left[\\frac{|0\\rangle - |1\\rangle}{\\sqrt{2}}\\right] \\otimes  \\left[\\frac{|0\\rangle - |1\\rangle}{\\sqrt{2}}\\right], & \\text{si } f(0) \\neq f(1)\n",
        "\\end{cases}\n",
        "$$\n",
        "\n",
        "Al aplicar la última `H`:\n",
        "\n",
        "$$\n",
        "|\\psi_3\\rangle =\n",
        "\\begin{cases}\n",
        "\\pm\\frac{|0\\rangle - |1\\rangle}{\\sqrt{2}} \\otimes |0\\rangle, & \\text{si } f(0) = f(1)\\\\\\mbox{}\\\\\n",
        "\\pm\\frac{|0\\rangle - |1\\rangle}{\\sqrt{2}} \\otimes |1\\rangle, & \\text{si } f(0) \\neq f(1)\n",
        "\\end{cases}\n",
        "$$\n",
        "\n",
        "Midiendo el cúbit de arriba vamos a obtener, con total certeza, un $0$ si $f$ es constante o un $1$ si $f$ es balanceada, con una sola evaluacion de $f(x)$."
      ]
    },
    {
      "cell_type": "markdown",
      "source": [
        "#### **Implementación de los oráculos de Deutsch**\n",
        "\n",
        "El circuito reversible $U_f$ para la función oráculo $f_0(x)=x$ se puede implementar con una puerta CNOT:\n"
      ],
      "metadata": {
        "id": "7ccK1qR-_NBx"
      },
      "id": "7ccK1qR-_NBx"
    },
    {
      "cell_type": "code",
      "source": [
        "qc = QuantumCircuit(2)\n",
        "# Aplica CNOT, primer parámetro target, segundo control\n",
        "qc.cx(0,1)\n",
        "qc.draw('mpl')"
      ],
      "metadata": {
        "id": "g_QIL7lR_ymO",
        "colab": {
          "base_uri": "https://localhost:8080/",
          "height": 191
        },
        "outputId": "871b34d6-9dee-4232-a825-b84ffb25ee43"
      },
      "id": "g_QIL7lR_ymO",
      "execution_count": 4,
      "outputs": [
        {
          "output_type": "execute_result",
          "data": {
            "text/plain": [
              "<Figure size 203.683x200.667 with 1 Axes>"
            ],
            "image/png": "[encoded data removed]"
          },
          "metadata": {},
          "execution_count": 4
        }
      ]
    },
    {
      "cell_type": "markdown",
      "source": [
        "Qiskit permite expresar este circuito como una puerta que se puede integrar en un circuito mayor:"
      ],
      "metadata": {
        "id": "n0RYqypRAJkw"
      },
      "id": "n0RYqypRAJkw"
    },
    {
      "cell_type": "code",
      "source": [
        "# Oráculo para f_0(x)=x\n",
        "def f0_oraculo():\n",
        "    \"\"\"\n",
        "    Define un oráculo para la funcion f0\n",
        "        return: circuito de 2 cúbit en forma de puerta\n",
        "    \"\"\"\n",
        "    qc = QuantumCircuit(2)\n",
        "    # Aplica CNOT, primer parámetro target, segundo control\n",
        "    qc.cx(0,1)\n",
        "\n",
        "    # Convierte el circuito en una puerta\n",
        "    oraculo = qc.to_gate()\n",
        "    oraculo.name = \"$U_{f_0}$\"\n",
        "    return oraculo"
      ],
      "metadata": {
        "id": "cL-dUhnuAX6o"
      },
      "id": "cL-dUhnuAX6o",
      "execution_count": 5,
      "outputs": []
    },
    {
      "cell_type": "code",
      "source": [
        "# Creamos un circuito y le añadimos el oráculo\n",
        "# QuantumRegister: define registros de cúbits\n",
        "x = QuantumRegister(1, name=\"|x\\\\rangle\")\n",
        "y = QuantumRegister(1, name=\"|y\\\\rangle\")\n",
        "qc = QuantumCircuit(x,y)\n",
        "\n",
        "# Añadimos el oráculo\n",
        "qc = qc.compose(f0_oraculo())\n",
        "\n",
        "display(qc.draw('mpl'))"
      ],
      "metadata": {
        "id": "YHIT_zXPAgVO",
        "colab": {
          "base_uri": "https://localhost:8080/",
          "height": 191
        },
        "outputId": "39cbb698-8d25-49ea-8799-4630badea20f"
      },
      "id": "YHIT_zXPAgVO",
      "execution_count": 6,
      "outputs": [
        {
          "output_type": "display_data",
          "data": {
            "text/plain": [
              "<Figure size 209.693x200.667 with 1 Axes>"
            ],
            "image/png": "[encoded data removed]"
          },
          "metadata": {}
        }
      ]
    },
    {
      "cell_type": "markdown",
      "source": [
        "Los oráculos para las otras tres funciones son:"
      ],
      "metadata": {
        "id": "DdweXPdbAsG7"
      },
      "id": "DdweXPdbAsG7"
    },
    {
      "cell_type": "code",
      "source": [
        "# Oraculo para f1(x)=^x\n",
        "def f1_oraculo():\n",
        "    \"\"\"\n",
        "    Define un oráculo para la funcion f1\n",
        "        return: circuito de 2 cúbit en forma de puerta\n",
        "    \"\"\"\n",
        "    qc = QuantumCircuit(2)\n",
        "    # Lo mismo que f_0 pero inviertiendo la x antes de la CNOT\n",
        "    qc.x(0)\n",
        "    qc.cx(0,1)\n",
        "    # Volvemos a invertir la x para recuperar su valor\n",
        "    qc.x(0)\n",
        "\n",
        "    # Convierte el circuito en una puerta\n",
        "    oraculo = qc.to_gate()\n",
        "    oraculo.name = \"$U_{f_1}$\"\n",
        "    return oraculo"
      ],
      "metadata": {
        "id": "0IM_H8S3BFQN"
      },
      "id": "0IM_H8S3BFQN",
      "execution_count": 7,
      "outputs": []
    },
    {
      "cell_type": "code",
      "source": [
        "# Oráculo para f_2(x) = 0\n",
        "def f2_oraculo():\n",
        "    \"\"\"\n",
        "    Define un oráculo para la funcion f1\n",
        "        return: circuito de 2 cúbit en forma de puerta\n",
        "    \"\"\"\n",
        "    qc = QuantumCircuit(2)\n",
        "\n",
        "    # El bit de ancilla siempre tiene que dar 0\n",
        "    # no necesitamos hacer nada\n",
        "\n",
        "    # Convierte el circuito en una puerta\n",
        "    oraculo = qc.to_gate()\n",
        "    oraculo.name = \"$U_{f_2}$\"\n",
        "    return oraculo"
      ],
      "metadata": {
        "id": "bdT3q4iYAwjh"
      },
      "id": "bdT3q4iYAwjh",
      "execution_count": 8,
      "outputs": []
    },
    {
      "cell_type": "code",
      "source": [
        "# Oraculo para f_3(x) = 1\n",
        "def f3_oraculo():\n",
        "    \"\"\"\n",
        "    Define un oráculo para la funcion f3\n",
        "        return: circuito de 2 cúbit en forma de puerta\n",
        "    \"\"\"\n",
        "    qc = QuantumCircuit(2)\n",
        "\n",
        "    # Invertimos el cúbit de ancilla para que siempre de 1\n",
        "    qc.x(1)\n",
        "\n",
        "    # Convierte el circuito en una puerta\n",
        "    oraculo = qc.to_gate()\n",
        "    oraculo.name = \"$U_{f_3}$\"\n",
        "    return oraculo"
      ],
      "metadata": {
        "id": "d7T6Yur6Ct-c"
      },
      "id": "d7T6Yur6Ct-c",
      "execution_count": 9,
      "outputs": []
    },
    {
      "cell_type": "markdown",
      "id": "dd186aba",
      "metadata": {
        "id": "dd186aba"
      },
      "source": [
        "### Ejercicio: Deutsch\n",
        "\n",
        "Implementa un circuito en Qiskit para probar el algoritmo de Deutsch con los oráculos definidos para las funciones anteriores. Comprueba que es capaz de determinar si la función es constante o balanceada."
      ]
    },
    {
      "cell_type": "code",
      "execution_count": 8,
      "id": "f208efa4",
      "metadata": {
        "id": "f208efa4",
        "colab": {
          "base_uri": "https://localhost:8080/",
          "height": 111
        },
        "outputId": "8f80dd89-9c9f-4fb3-a9c1-615737c90b6c"
      },
      "outputs": [
        {
          "output_type": "error",
          "ename": "SyntaxError",
          "evalue": "invalid syntax (ipython-input-8-1135617333.py, line 9)",
          "traceback": [
            "\u001b[0;36m  File \u001b[0;32m\"/tmp/ipython-input-8-1135617333.py\"\u001b[0;36m, line \u001b[0;32m9\u001b[0m\n\u001b[0;31m    qc....\u001b[0m\n\u001b[0m      ^\u001b[0m\n\u001b[0;31mSyntaxError\u001b[0m\u001b[0;31m:\u001b[0m invalid syntax\n"
          ]
        }
      ],
      "source": [
        "# Empieza creando un circuito a partir de un oráculo\n",
        "def deutsch_qc(oraculo):\n",
        "    x = QuantumRegister(1, name=\"|x\\\\rangle\")\n",
        "    y = QuantumRegister(1, name=\"|y\\\\rangle\")\n",
        "    meas = ClassicalRegister(1, name=\"Medida\")\n",
        "    qc = ...\n",
        "\n",
        "    # Añade las puertas iniciales\n",
        "    qc....\n",
        "    qc....\n",
        "    qc....\n",
        "\n",
        "    # Añade el oraculo\n",
        "    qc = qc.compose(oraculo())\n",
        "\n",
        "    # Añade la última puerta H\n",
        "    qc....\n",
        "\n",
        "    # Añade la medida\n",
        "    qc....\n",
        "\n",
        "    return qc"
      ]
    },
    {
      "cell_type": "code",
      "execution_count": 10,
      "id": "d1722707",
      "metadata": {
        "id": "d1722707",
        "colab": {
          "base_uri": "https://localhost:8080/",
          "height": 185
        },
        "outputId": "e723d396-41e5-4f42-c152-92455b1d4d00"
      },
      "outputs": [
        {
          "output_type": "error",
          "ename": "NameError",
          "evalue": "name 'deutsch_qc' is not defined",
          "traceback": [
            "\u001b[0;31m---------------------------------------------------------------------------\u001b[0m",
            "\u001b[0;31mNameError\u001b[0m                                 Traceback (most recent call last)",
            "\u001b[0;32m/tmp/ipython-input-10-4020060567.py\u001b[0m in \u001b[0;36m<cell line: 0>\u001b[0;34m()\u001b[0m\n\u001b[1;32m      1\u001b[0m \u001b[0;31m# Probamos con f0\u001b[0m\u001b[0;34m\u001b[0m\u001b[0;34m\u001b[0m\u001b[0m\n\u001b[0;32m----> 2\u001b[0;31m \u001b[0mqc\u001b[0m \u001b[0;34m=\u001b[0m \u001b[0mdeutsch_qc\u001b[0m\u001b[0;34m(\u001b[0m\u001b[0mf0_oraculo\u001b[0m\u001b[0;34m)\u001b[0m\u001b[0;34m\u001b[0m\u001b[0;34m\u001b[0m\u001b[0m\n\u001b[0m\u001b[1;32m      3\u001b[0m \u001b[0mqc\u001b[0m\u001b[0;34m.\u001b[0m\u001b[0mdraw\u001b[0m\u001b[0;34m(\u001b[0m\u001b[0;34m'mpl'\u001b[0m\u001b[0;34m)\u001b[0m\u001b[0;34m\u001b[0m\u001b[0;34m\u001b[0m\u001b[0m\n",
            "\u001b[0;31mNameError\u001b[0m: name 'deutsch_qc' is not defined"
          ]
        }
      ],
      "source": [
        "# Probamos con f0\n",
        "qc = deutsch_qc(f0_oraculo)\n",
        "qc.draw('mpl')"
      ]
    },
    {
      "cell_type": "code",
      "execution_count": 11,
      "id": "4b5b2361",
      "metadata": {
        "id": "4b5b2361",
        "colab": {
          "base_uri": "https://localhost:8080/",
          "height": 314
        },
        "outputId": "ecb931d1-c408-40bb-d9ad-553ed2952262"
      },
      "outputs": [
        {
          "output_type": "error",
          "ename": "QiskitError",
          "evalue": "'No counts for experiment \"0\"'",
          "traceback": [
            "\u001b[0;31m---------------------------------------------------------------------------\u001b[0m",
            "\u001b[0;31mQiskitError\u001b[0m                               Traceback (most recent call last)",
            "\u001b[0;32m/tmp/ipython-input-11-3500362572.py\u001b[0m in \u001b[0;36m<cell line: 0>\u001b[0;34m()\u001b[0m\n\u001b[1;32m      3\u001b[0m \u001b[0mqc_obj\u001b[0m \u001b[0;34m=\u001b[0m \u001b[0mtranspile\u001b[0m\u001b[0;34m(\u001b[0m\u001b[0mqc\u001b[0m\u001b[0;34m,\u001b[0m \u001b[0msim\u001b[0m\u001b[0;34m)\u001b[0m\u001b[0;34m\u001b[0m\u001b[0;34m\u001b[0m\u001b[0m\n\u001b[1;32m      4\u001b[0m \u001b[0mresult\u001b[0m \u001b[0;34m=\u001b[0m \u001b[0msim\u001b[0m\u001b[0;34m.\u001b[0m\u001b[0mrun\u001b[0m\u001b[0;34m(\u001b[0m\u001b[0mqc_obj\u001b[0m\u001b[0;34m,\u001b[0m \u001b[0mshots\u001b[0m\u001b[0;34m=\u001b[0m\u001b[0;36m1024\u001b[0m\u001b[0;34m)\u001b[0m\u001b[0;34m.\u001b[0m\u001b[0mresult\u001b[0m\u001b[0;34m(\u001b[0m\u001b[0;34m)\u001b[0m\u001b[0;34m\u001b[0m\u001b[0;34m\u001b[0m\u001b[0m\n\u001b[0;32m----> 5\u001b[0;31m \u001b[0mplot_histogram\u001b[0m\u001b[0;34m(\u001b[0m\u001b[0mresult\u001b[0m\u001b[0;34m.\u001b[0m\u001b[0mget_counts\u001b[0m\u001b[0;34m(\u001b[0m\u001b[0;34m)\u001b[0m\u001b[0;34m)\u001b[0m\u001b[0;34m\u001b[0m\u001b[0;34m\u001b[0m\u001b[0m\n\u001b[0m",
            "\u001b[0;32m/usr/local/lib/python3.11/dist-packages/qiskit/result/result.py\u001b[0m in \u001b[0;36mget_counts\u001b[0;34m(self, experiment)\u001b[0m\n\u001b[1;32m    274\u001b[0m                 \u001b[0mdict_list\u001b[0m\u001b[0;34m.\u001b[0m\u001b[0mappend\u001b[0m\u001b[0;34m(\u001b[0m\u001b[0mstatevector\u001b[0m\u001b[0;34m.\u001b[0m\u001b[0mStatevector\u001b[0m\u001b[0;34m(\u001b[0m\u001b[0mvec\u001b[0m\u001b[0;34m)\u001b[0m\u001b[0;34m.\u001b[0m\u001b[0mprobabilities_dict\u001b[0m\u001b[0;34m(\u001b[0m\u001b[0mdecimals\u001b[0m\u001b[0;34m=\u001b[0m\u001b[0;36m15\u001b[0m\u001b[0;34m)\u001b[0m\u001b[0;34m)\u001b[0m\u001b[0;34m\u001b[0m\u001b[0;34m\u001b[0m\u001b[0m\n\u001b[1;32m    275\u001b[0m             \u001b[0;32melse\u001b[0m\u001b[0;34m:\u001b[0m\u001b[0;34m\u001b[0m\u001b[0;34m\u001b[0m\u001b[0m\n\u001b[0;32m--> 276\u001b[0;31m                 \u001b[0;32mraise\u001b[0m \u001b[0mQiskitError\u001b[0m\u001b[0;34m(\u001b[0m\u001b[0;34mf'No counts for experiment \"{repr(key)}\"'\u001b[0m\u001b[0;34m)\u001b[0m\u001b[0;34m\u001b[0m\u001b[0;34m\u001b[0m\u001b[0m\n\u001b[0m\u001b[1;32m    277\u001b[0m \u001b[0;34m\u001b[0m\u001b[0m\n\u001b[1;32m    278\u001b[0m         \u001b[0;31m# Return first item of dict_list if size is 1\u001b[0m\u001b[0;34m\u001b[0m\u001b[0;34m\u001b[0m\u001b[0m\n",
            "\u001b[0;31mQiskitError\u001b[0m: 'No counts for experiment \"0\"'"
          ]
        }
      ],
      "source": [
        "# Hacemos la simulacion\n",
        "sim = AerSimulator(method='automatic')\n",
        "qc_obj = transpile(qc, sim)\n",
        "result = sim.run(qc_obj, shots=1024).result()\n",
        "plot_histogram(result.get_counts())"
      ]
    },
    {
      "cell_type": "code",
      "execution_count": null,
      "id": "eb987c25",
      "metadata": {
        "id": "eb987c25"
      },
      "outputs": [],
      "source": [
        "# Probamos con las otras 3\n",
        "for f in [f1_oraculo, f2_oraculo, f3_oraculo]:\n",
        "    qc = deutsch_qc(f)\n",
        "    # hacemos la simulacion\n",
        "    qc_obj = transpile(qc, sim)\n",
        "    result = sim.run(qc_obj, shots=1024).result()\n",
        "    display(plot_histogram(result.get_counts()))"
      ]
    },
    {
      "cell_type": "markdown",
      "source": [
        "\n",
        "\n",
        "---\n",
        "\n",
        "\n"
      ],
      "metadata": {
        "id": "GGJ38hbzEL0V"
      },
      "id": "GGJ38hbzEL0V"
    },
    {
      "cell_type": "markdown",
      "id": "marine-mechanism",
      "metadata": {
        "id": "marine-mechanism"
      },
      "source": [
        "## Algoritmo de Deutsch-Jozsa <a name=\"dj\"></a>\n",
        "\n",
        "Es una generalización a $n$ bits del anterior. Dada una función (oráculo) $f(\\{x_{n-1},x_{n-2},\\ldots,x_1,x_{0}\\}) \\rightarrow \\{0,1\\}$, que es, o bien, _balanceada_, o bien, _constante_, determinar el tipo:\n",
        "\n",
        "- Función constante: la salida de $f(x)$ es, o bien, 0, o bien, 1 $\\forall x$\n",
        "- Función balanceada: devuelve 0 para la mitad de las entradas y 1 para la otra mitad\n",
        "\n",
        "**Solución clásica**\n",
        "\n",
        "Un algoritmo clásico necesita efectuar en el mejor caso $2$ y en el peor $2^{n-1}+1$ evaluaciones de $f(x)$, por lo que su complejidad es exponencial $\\mathcal{O}(2^n)$.\n",
        "\n",
        "**Solución cuántica**\n",
        "\n",
        "El algoritmo cuántico ([D. Deutsch and R. Jozsa, 1992](https://doi.org/10.1098%2Frspa.1992.0167)) solo necesita una evaluación del oráculo $f(x)$ (ganancia exponencial).\n",
        "\n",
        "El circuito usado es:\n",
        "\n",
        "<center><img src=\"https://drive.google.com/uc?export=view&id=15N7Y3uoVXhbW2yMbUJlYljrhbii4EqkL\" alt=\"Deutsch-Jozsa\" width=\"700\"  /></center>\n",
        "\n",
        "Si la medida devuelte todo 0, 𝑓 es constante. Si obtenemos cualquier otro valor 𝑓 es balanceada.\n",
        "\n",
        "<details>\n",
        "<summary>Demostración del algoritmo de Deutsch-Jozsa</summary>\n",
        "Pasos:\n",
        "\n",
        "<ol>\n",
        "   <li>\n",
        "        Estado inicial:\n",
        "        \n",
        "\n",
        "$$\\vert \\psi_0 \\rangle = \\vert 1\\rangle \\vert0\\rangle^{\\otimes n} $$\n",
        "\n",
        "\n",
        "   </li>\n",
        "    \n",
        "   <li>\n",
        "        Después de aplicar las primeras puertas H:\n",
        "$$\\vert \\psi_1 \\rangle = \\frac{1}{\\sqrt{2^{n+1}}}\\sum_{x=0}^{2^n-1} \\left(|0\\rangle - |1 \\rangle \\right)\\vert x\\rangle $$\n",
        "   </li>\n",
        "   <p>\n",
        "   <li>\n",
        "        Aplicamos $U_f$ a $\\vert y\\rangle \\vert x\\rangle$ para obtener $\\vert y \\oplus f(x)\\rangle\\vert x\\rangle$, recordando que $y\\oplus f(x) = \\tfrac{1}{\\sqrt{2}} (-1)^{f(x)}(|0\\rangle - |1\\rangle)$:\n",
        "\n",
        "$$\\vert\\psi_2\\rangle  = \\frac{1}{\\sqrt{2^{n+1}}}\\sum_{x=0}^{2^n-1}(-1)^{f(x)}(|0\\rangle - |1\\rangle)|x\\rangle=\\frac{(|0\\rangle - |1\\rangle)}{\\sqrt{2^{n+1}}}\\sum_{x=0}^{2^n-1}(-1)^{f(x)}|x\\rangle$$\n",
        "          </li>\n",
        "<p>\n",
        "<li>Ahora aplicamos una H a cada cúbit en  $|x\\rangle$ (recordemos que $H^{\\otimes n}|x\\rangle = \\tfrac{1}{\\sqrt{2^n}} \\sum_{i=0}^{2^n-1} (-1)^{x\\cdot i}|i\\rangle)$. Si ya no consideramos el cúbit de abajo, el estado es:<p>\n",
        "$$\n",
        "\\begin{aligned}\n",
        "    \\lvert \\psi_3 \\rangle\n",
        "        & = \\frac{1}{2^n}\\sum_{x=0}^{2^n-1}(-1)^{f(x)}\n",
        "            \\left[ \\sum_{i=0}^{2^n-1}(-1)^{x \\cdot i}\n",
        "            \\vert i \\rangle \\right] \\\\\n",
        "        & = \\frac{1}{2^n}\\sum_{i=0}^{2^n-1}\n",
        "            \\left[ \\sum_{x=0}^{2^n-1}(-1)^{f(x)}(-1)^{x \\cdot i} \\right]\n",
        "            \\vert i \\rangle\n",
        "\\end{aligned}\n",
        "$$\n",
        "       \n",
        "con $x \\cdot i = x_{n-1}i_{n-1}\\oplus x_{n-2}i_{n-2}\\oplus \\ldots \\oplus x_1i_1 \\oplus x_0i_0$.\n",
        "   </li>\n",
        "\n",
        "   <li>\n",
        "\n",
        "Se realiza la medida. La probabilidad de obtener todo 0 ($\\vert i \\rangle=  \\vert 0 \\rangle ^{\\otimes n}$) es:\n",
        "$$\n",
        "\\left| \\frac{1}{2^n}\\sum_{x=0}^{2^n-1}(-1)^{f(x)} \\right|^2 =\n",
        "\\begin{cases}\n",
        "1, \\text{si } f \\text{ es constante}\\\\\n",
        "0, \\text{si } f \\text{ es balanceada}\n",
        "\\end{cases}\n",
        "$$\n",
        "\n",
        "   </li>\n",
        "<p>\n",
        "</ol>\n",
        "\n",
        "En conclusión, si a la salida obtenemos todo 0, $f$ es constante. Si obtenemos cualquier otro valor $f$ es balanceada.\n",
        "\n",
        "**Ejemplo**\n",
        "Supongamos $n=2$. Las probabilidades asociadas a cada salida son:\n",
        "\n",
        "$$\n",
        "p(0) = \\left|\\frac{1}{4} \\sum_{x=0}^{3}(-1)^{f(x)}(-1)^{x \\cdot 0} \\right|^2 = \\left|\\frac{1}{4} \\left[ (-1)^{f(0)}(-1)^{0} + (-1)^{f(1)}(-1)^{0} + (-1)^{f(2)}(-1)^{0} + (-1)^{f(3)}(-1)^{0}\\right]  \\right|^2\n",
        "$$\n",
        "$$\n",
        "p(1) = \\left|\\frac{1}{4} \\sum_{x=0}^{3}(-1)^{f(x)}(-1)^{x \\cdot 1} \\right|^2 = \\left|\\frac{1}{4} \\left[ (-1)^{f(0)}(-1)^{0} + (-1)^{f(1)}(-1)^{1} + (-1)^{f(2)}(-1)^{0} + (-1)^{f(3)}(-1)^{1}\\right]  \\right|^2\n",
        "$$\n",
        "$$\n",
        "p(2) = \\left|\\frac{1}{4} \\sum_{x=0}^{3}(-1)^{f(x)}(-1)^{x \\cdot 2} \\right|^2 = \\left|\\frac{1}{4} \\left[ (-1)^{f(0)}(-1)^{0} + (-1)^{f(1)}(-1)^{0} + (-1)^{f(2)}(-1)^{1} + (-1)^{f(3)}(-1)^{1}\\right]  \\right|^2\n",
        "$$\n",
        "$$\n",
        "p(3) = \\left|\\frac{1}{4} \\sum_{x=0}^{3}(-1)^{f(x)}(-1)^{x \\cdot 3} \\right|^2 = \\left|\\frac{1}{4} \\left[ (-1)^{f(0)}(-1)^{0} + (-1)^{f(1)}(-1)^{1} + (-1)^{f(2)}(-1)^{1} + (-1)^{f(3)}(-1)^{0}\\right]  \\right|^2\n",
        "$$\n",
        "\n",
        "Es fácil ver que si $f$ es constante, $p(0)=1$ y $p(1)=p(2)=p(3)=0$, ya que se anulan los términos. Por contra, si $f$ es balanceada $p(0)=0$.\n",
        "\n",
        "</details>\n"
      ]
    },
    {
      "cell_type": "markdown",
      "source": [
        "\n",
        "\n",
        "---\n",
        "\n",
        "**Ejemplo: Oráculo balanceado de $n$ bits**\n",
        "\n"
      ],
      "metadata": {
        "id": "K-ep5nW5GF60"
      },
      "id": "K-ep5nW5GF60"
    },
    {
      "cell_type": "code",
      "source": [
        "n = 3\n",
        "# x: n cubits de entrada, f(x) 1 cubit de salida\n",
        "oraculo_bal = QuantumCircuit(n+1)\n",
        "\n",
        "for q in range(n):\n",
        "    oraculo_bal.cx(q,n)\n",
        "\n",
        "oraculo_bal.draw('mpl')"
      ],
      "metadata": {
        "id": "K2gUwTycGE4G",
        "colab": {
          "base_uri": "https://localhost:8080/",
          "height": 320
        },
        "outputId": "fddadf12-c187-45e4-ca39-671e21e848af"
      },
      "id": "K2gUwTycGE4G",
      "execution_count": 12,
      "outputs": [
        {
          "output_type": "execute_result",
          "data": {
            "text/plain": [
              "<Figure size 371.107x367.889 with 1 Axes>"
            ],
            "image/png": "[encoded data removed]"
          },
          "metadata": {},
          "execution_count": 12
        }
      ]
    },
    {
      "cell_type": "markdown",
      "source": [
        "Si $|q_2q_1q_0\\rangle$ tiene paridad par devuelve un 1, en caso contrario un 0.\n",
        "\n",
        "Expresado en forma de función:"
      ],
      "metadata": {
        "id": "3FAuYSIeHX7C"
      },
      "id": "3FAuYSIeHX7C"
    },
    {
      "cell_type": "code",
      "source": [
        "# Oráculo balanceado\n",
        "def bal_oraculo(n):\n",
        "    \"\"\"\n",
        "    Define un oraculo balanceado de n bits\n",
        "        return: circuito de 2 cúbit en forma de puerta\n",
        "    \"\"\"\n",
        "    qc = QuantumCircuit(n+1)\n",
        "\n",
        "    # Aplica CNOTs\n",
        "    qc.cx(range(n),n)\n",
        "\n",
        "    # Convierte el circuito en una puerta\n",
        "    oraculo = qc.to_gate()\n",
        "    oraculo.name = \"$U_{bal}$\"\n",
        "    return oraculo"
      ],
      "metadata": {
        "id": "XduhG2M1HrNx"
      },
      "id": "XduhG2M1HrNx",
      "execution_count": 13,
      "outputs": []
    },
    {
      "cell_type": "markdown",
      "source": [
        "El caso de un oráculo constantes es trivial:"
      ],
      "metadata": {
        "id": "4V-d5KedI93k"
      },
      "id": "4V-d5KedI93k"
    },
    {
      "cell_type": "code",
      "source": [
        "# Oráculo constante\n",
        "def cte_oraculo(n):\n",
        "    \"\"\"\n",
        "    Define un oraculo balanceado de n bits\n",
        "        return: circuito de 2 cúbit en forma de puerta\n",
        "    \"\"\"\n",
        "    qc = QuantumCircuit(n+1)\n",
        "\n",
        "    # Puerta identidad\n",
        "\n",
        "    # Convierte el circuito en una puerta\n",
        "    oraculo = qc.to_gate()\n",
        "    oraculo.name = \"$U_{cte}$\"\n",
        "    return oraculo"
      ],
      "metadata": {
        "id": "e6ECA_gNJBwL"
      },
      "id": "e6ECA_gNJBwL",
      "execution_count": 14,
      "outputs": []
    },
    {
      "cell_type": "markdown",
      "source": [
        "\n",
        "---"
      ],
      "metadata": {
        "id": "7Cm9--NmJOTn"
      },
      "id": "7Cm9--NmJOTn"
    },
    {
      "cell_type": "markdown",
      "source": [
        "**Ejemplo: Circuito para Deutsch-Jozsa**\n",
        "\n",
        "Es idéntico al de Deutsch pero con $|x\\rangle$ de $n$ bits."
      ],
      "metadata": {
        "id": "fCc2o1ybJbqH"
      },
      "id": "fCc2o1ybJbqH"
    },
    {
      "cell_type": "code",
      "source": [
        "# Especificando el nº de cúbits y el oráculo\n",
        "def dj_qc(n, oraculo):\n",
        "    x = QuantumRegister(n, name=\"|x\\\\rangle\")\n",
        "    y = QuantumRegister(1, name=\"|y\\\\rangle\")\n",
        "    meas = ClassicalRegister(n, name=\"Medida\")\n",
        "    qc = QuantumCircuit(x,y,meas)\n",
        "\n",
        "    # Añade las puertas iniciales\n",
        "    qc.x(y)\n",
        "    qc.h(x)\n",
        "    qc.h(y)\n",
        "\n",
        "    # Añade el oraculo\n",
        "    qc = qc.compose(oraculo(n))\n",
        "\n",
        "    # Añade la última puerta H\n",
        "    qc.h(x)\n",
        "\n",
        "    # Añade la medida\n",
        "    qc.measure(x,meas)\n",
        "\n",
        "    return qc"
      ],
      "metadata": {
        "id": "G7RbfSPJJnZh"
      },
      "id": "G7RbfSPJJnZh",
      "execution_count": 15,
      "outputs": []
    },
    {
      "cell_type": "code",
      "source": [
        "# Probamos con un oráculo constante\n",
        "n = 4\n",
        "qc = dj_qc(n, cte_oraculo)\n",
        "qc.draw('mpl')"
      ],
      "metadata": {
        "id": "C-5-jymZLDUp",
        "colab": {
          "base_uri": "https://localhost:8080/",
          "height": 449
        },
        "outputId": "26ed7303-810c-40b1-c77d-6a0fba0c7746"
      },
      "id": "C-5-jymZLDUp",
      "execution_count": 17,
      "outputs": [
        {
          "output_type": "execute_result",
          "data": {
            "text/plain": [
              "<Figure size 857.662x535.111 with 1 Axes>"
            ],
            "image/png": "[encoded data removed]"
          },
          "metadata": {},
          "execution_count": 17
        }
      ]
    },
    {
      "cell_type": "code",
      "source": [
        "# Utilizamos el simulador Aer por defecto\n",
        "sim = AerSimulator(method='automatic')\n",
        "\n",
        "# Tenemos que \"transpilar\" el código al simulador\n",
        "qc_obj = transpile(qc,sim)\n",
        "# Hacemos una simulación y obtenemos los resultados\n",
        "result = sim.run(qc_obj, shots=1024).result()\n",
        "\n",
        "plot_histogram(result.get_counts())"
      ],
      "metadata": {
        "id": "k4kLY6tOHjmx",
        "colab": {
          "base_uri": "https://localhost:8080/",
          "height": 487
        },
        "outputId": "eb99e423-b052-4783-e1ef-bb56f5ffd220"
      },
      "id": "k4kLY6tOHjmx",
      "execution_count": 18,
      "outputs": [
        {
          "output_type": "execute_result",
          "data": {
            "text/plain": [
              "<Figure size 640x480 with 1 Axes>"
            ],
            "image/png": "[encoded data removed]"
          },
          "metadata": {},
          "execution_count": 18
        }
      ]
    },
    {
      "cell_type": "code",
      "source": [
        "# Probamos con un oráculo balanceado\n",
        "n = 4\n",
        "qc = dj_qc(n, bal_oraculo)\n",
        "display(qc.draw('mpl'))\n",
        "\n",
        "# Medimos y mostramos el histograma\n",
        "# Hacemos la simulacion\n",
        "result = sim.run(transpile(qc,sim),shots=1024).result()\n",
        "salida = result.get_counts()\n",
        "plot_histogram(salida)"
      ],
      "metadata": {
        "id": "vxufpnCoMRgJ",
        "colab": {
          "base_uri": "https://localhost:8080/",
          "height": 919
        },
        "outputId": "16f36420-4bd0-4f2d-c80d-cb21483fc694"
      },
      "id": "vxufpnCoMRgJ",
      "execution_count": 19,
      "outputs": [
        {
          "output_type": "display_data",
          "data": {
            "text/plain": [
              "<Figure size 857.662x535.111 with 1 Axes>"
            ],
            "image/png": "[encoded data removed]"
          },
          "metadata": {}
        },
        {
          "output_type": "execute_result",
          "data": {
            "text/plain": [
              "<Figure size 640x480 with 1 Axes>"
            ],
            "image/png": "[encoded data removed]"
          },
          "metadata": {},
          "execution_count": 19
        }
      ]
    },
    {
      "cell_type": "markdown",
      "id": "4be0c663",
      "metadata": {
        "id": "4be0c663"
      },
      "source": [
        "-----------------------"
      ]
    },
    {
      "cell_type": "markdown",
      "id": "wound-racing",
      "metadata": {
        "id": "wound-racing"
      },
      "source": [
        "## Algoritmo de Bernstein-Vazirani <a name=\"bv\"></a>\n",
        "\n",
        "Es una versión del anterior en la que el oráculo $f(\\{x_{n-1},x_{n-2},\\ldots,x_{0}\\}) \\rightarrow \\{0,1\\}$ es de la forma $f_s(x) = s\\cdot x = s_{n-1}x_{n-1} \\oplus s_{n-2}x_{n-2} \\oplus \\ldots \\oplus s_{0}x_{0}$, con $s_i\\in\\{0,1\\}$, donde $s$ es desconocido. El objetivo es encontrar el valor de $s$.\n",
        "\n",
        "**Solución clásica**\n",
        "\n",
        "Para obtener $s$, un algoritmo clásico tiene que hacer $n$ invocaciones de $f_s(x)$ con los valores $x=2^i$ con $i \\in \\{0,\\ldots,n-1\\}$.\n",
        "\n",
        "$$\n",
        "s_0 = f_s(000\\ldots 01)\\\\\n",
        "s_1 = f_s(000\\ldots 10)\\\\\n",
        "\\cdots\\\\\n",
        "s_{n-1} = f_s(100\\ldots 00)\n",
        "$$\n",
        "\n",
        "**Solución cuántica**\n",
        "\n",
        "El algoritmo cuántico ([E. Bernstein y U. Vazirani, 1997](https://doi.org/10.1137/S0097539796300921)) necesita 1 sola invocación del oráculo. La salida del circuito es el estado $|s\\rangle$.\n",
        "\n",
        "El circuito es idéntico al de Deutsch-Jozsa, solo cambia la función oráculo.\n",
        "\n",
        "<details>\n",
        "<summary>Demostración del algoritmo de Bernstein-Vazirani</summary>\n",
        "\n",
        "Al igual que antes tenemos:\n",
        "\n",
        "$$            \n",
        "\\lvert \\psi_3 \\rangle  = \\frac{1}{2^n}\\sum_{i=0}^{2^n-1}\n",
        "                    \\left[ \\sum_{x=0}^{2^n-1}(-1)^{f_s(x)}(-1)^{x \\cdot i} \\right]\n",
        "                    \\vert i \\rangle =\n",
        "                    \\frac{1}{2^n}\\sum_{i=0}^{2^n-1}\n",
        "                    \\left[ \\sum_{x=0}^{2^n-1}(-1)^{s\\cdot x}(-1)^{x \\cdot i} \\right]\n",
        "                    \\vert i \\rangle =\n",
        "                    \\sum_{i=0}^{2^n-1}\n",
        "                    \\left[ \\frac{1}{2^n}\\sum_{x=0}^{2^n-1}(-1)^{s\\cdot x}(-1)^{x \\cdot i} \\right]\n",
        "$$\n",
        "\n",
        "El sumatorio sobre $x$ se puede escribir:\n",
        "\n",
        "$$\n",
        "\\frac{1}{2^n} \\sum_{x=0}^{2^n-1}(-1)^{s\\cdot x}(-1)^{x \\cdot i} = \\frac{1}{2^n} \\sum_{x=0}^{2^n-1}(-1)^{(s\\cdot x) \\oplus (x \\cdot i)} = \\frac{1}{2^n} \\sum_{x=0}^{2^n-1}(-1)^{(s \\oplus i)\\cdot x}\n",
        "=\n",
        "       \\begin{cases}\n",
        "       1, \\text{si } s \\oplus i = 0\\\\\n",
        "       0, \\text{si } s \\oplus i = 1\n",
        "       \\end{cases}\n",
        "$$                    \n",
        "\n",
        "Y $s \\oplus i = 0 \\Rightarrow s = i$, es decir, que la amplitud no nula es, precisamente, $|s\\rangle$.\n",
        "\n",
        "**Ejemplo**: supongamos $n=2$. Aplicando el algoritmo tenemos en el paso 2:\n",
        "\n",
        "$$\n",
        "\\lvert \\psi_2 \\rangle  \n",
        "    = \\frac{|0\\rangle - |1\\rangle}{\\sqrt{2^{n+1}}}\\sum_{x=0}^{2^n-1}(-1)^{f(x)}|x\\rangle\n",
        "    = \\frac{|0\\rangle - |1\\rangle}{2\\sqrt{2}}\n",
        "                 \\left[\n",
        "                 (-1)^{s\\cdot 00}|00\\rangle +\n",
        "                 (-1)^{s\\cdot 01}|01\\rangle +\n",
        "                 (-1)^{s\\cdot 10}|10\\rangle +\n",
        "                 (-1)^{s\\cdot 11}|11\\rangle\\right]\n",
        "$$\n",
        "\n",
        "Si suponemos $s=11$, el estado será:\n",
        "\n",
        "$$\n",
        "\\lvert \\psi_2 \\rangle =   \\frac{|0\\rangle - |1\\rangle}{2\\sqrt{2}}\n",
        "                 \\left[\n",
        "                 (-1)^{11\\cdot 00}|00\\rangle +\n",
        "                 (-1)^{11\\cdot 01}|01\\rangle +\n",
        "                 (-1)^{11\\cdot 10}|10\\rangle +\n",
        "                 (-1)^{11\\cdot 11}|11\\rangle\\right] =\n",
        "                 \\frac{1}{2}(|00\\rangle - |01\\rangle - |10\\rangle + |11\\rangle)\n",
        "$$\n",
        "\n",
        "Y al aplicar las `H`:\n",
        "\n",
        "$$\n",
        "\\lvert \\psi_3 \\rangle =   \\frac{1}{4}\\left[\n",
        "(|0\\rangle+|1\\rangle)\\otimes(|0\\rangle+|1\\rangle) -\n",
        "(|0\\rangle+|1\\rangle)\\otimes(|0\\rangle-|1\\rangle) -\n",
        "(|0\\rangle-|1\\rangle)\\otimes(|0\\rangle+|1\\rangle) +\n",
        "(|0\\rangle-|1\\rangle)\\otimes(|0\\rangle-|1\\rangle)\n",
        "\\right] = \\\\\n",
        "= \\frac{1}{4}\\left[\n",
        "|00\\rangle + |01\\rangle + |10\\rangle + |11\\rangle - |00\\rangle + |01\\rangle - |10\\rangle + |11\\rangle  \n",
        "- |00\\rangle - |01\\rangle + |10\\rangle + |11\\rangle + |00\\rangle - |01\\rangle - |10\\rangle + |11\\rangle\n",
        "\\right] = \\\\\n",
        "= |11\\rangle = |s\\rangle\n",
        "$$\n",
        "\n",
        "</details>\n"
      ]
    },
    {
      "cell_type": "markdown",
      "id": "54a9e2b8",
      "metadata": {
        "id": "54a9e2b8"
      },
      "source": [
        "------------------------------"
      ]
    },
    {
      "cell_type": "markdown",
      "id": "iraqi-decimal",
      "metadata": {
        "id": "iraqi-decimal"
      },
      "source": [
        "## Algoritmo de periodicidad de Simon <a name=\"simon\"></a>\n",
        "\n",
        "En este caso, el oráculo es una función $f_c:\\{0,1\\}^n \\rightarrow \\{0,1\\}^n$ que depende de un número binario desconocido $c=c_{n-1}c_{n-2}\\ldots c_0 \\ne 0$, con $c_i \\in \\{0,1\\}$, tal que, para todos los valores $x,y \\in \\{0,1\\}^n$ se tiene que:\n",
        "$$\n",
        "f_c(x) = f_c(y) \\Leftrightarrow y=x\\oplus c \\text{   (o que }x\\oplus y =c\\text{)}\n",
        "$$\n",
        "\n",
        "Es decir, los valores de $f_c$ se repiten con un cierto patrón dado por $c$, que se denomina período. Por ejemplo, supongamos $n=3$ y $c=5\\equiv 101$:\n",
        "\n",
        "$$\n",
        "\\hphantom{00} x\\hphantom{0 \\oplus 1} c \\hphantom{01 = 1} y\\hphantom{01 \\Rightarrow f_c(0) = f_c(5)}\\\\\n",
        "000 \\oplus 101 = 101 \\Rightarrow f_c(0) = f_c(5)\\\\\n",
        "001 \\oplus 101 = 100 \\Rightarrow f_c(1) = f_c(4)\\\\\n",
        "010 \\oplus 101 = 111 \\Rightarrow f_c(2) = f_c(7)\\\\\n",
        "011 \\oplus 101 = 110 \\Rightarrow f_c(3) = f_c(6)\\\\\n",
        "100 \\oplus 101 = 001 \\Rightarrow f_c(4) = f_c(1)\\\\\n",
        "101 \\oplus 101 = 000 \\Rightarrow f_c(5) = f_c(0)\\\\\n",
        "110 \\oplus 101 = 011 \\Rightarrow f_c(6) = f_c(3)\\\\\n",
        "111 \\oplus 101 = 010 \\Rightarrow f_c(7) = f_c(2)\n",
        "$$\n",
        "\n",
        "**Solución clásica**\n",
        "\n",
        "Un algoritmo clásico necesita evaluar la función hasta encontrar dos valores $x$ e $y$ tales que $f_c(x) = f_c(y)$. Dados esos valores, se tiene que $c=x\\oplus y$.\n",
        "\n",
        "En el peor de los casos tenemos que buscar en la mitad de los valores, efectuando $2^{n-1}+1$ evaluaciones de $f(x)$.\n",
        "\n",
        "**Solución cuántica**\n",
        "\n",
        "El algoritmo cuántico ([D. R. Simon, 1997](https://doi.org/10.1137/S0097539796298637)) solo necesita $\\mathcal{O}(n)$ evaluaciones.\n",
        "\n",
        "El circuito que se utiliza es similar al que venimos usando pero con $n$ bits de ancilla:\n",
        "\n",
        "<center><img src=\"https://drive.google.com/uc?export=view&id=1kVEdsa1Bg8CgH_UOelGFPTzt9vp88hbr\" alt=\"Simon\" width=\"700\"  /></center>\n",
        "\n",
        "La salida del algoritmo es un estado $|i\\rangle = |i_{n-1}\\ldots i_0\\rangle$ que verifica que $c \\cdot i = c_{n-1}\\cdot i_{n-1}\\oplus c_{n-2}\\cdot i_{n-2}\\oplus \\ldots\\oplus c_0\\cdot i_0 = 0$.\n",
        "\n",
        "Midiendo $\\mathcal{O(n)}$ veces obtenemos conjunto de ecuaciones que permiten calcular el valor de $c$.\n",
        "\n",
        "---\n",
        "\n",
        "**Ejemplo**\n",
        "\n",
        "Usamos el algoritmo de Simon para $n=3$ y obtenemos a la salida los siguientes estados: $|000\\rangle$, $|001\\rangle$, $|110\\rangle$ y $|111\\rangle$. ¿Cuánto vale $c$?\n",
        "\n",
        "i. $|000\\rangle\\cdot c = 0\\cdot c_2\\oplus 0\\cdot c_1 \\oplus 0\\cdot c_0 = 0$\n",
        "\n",
        "ii. $|001\\rangle\\cdot c = 0\\cdot c_2\\oplus 0\\cdot c_1 \\oplus 1\\cdot c_0 = 0$\n",
        "\n",
        "iii. $|110\\rangle\\cdot c = 1\\cdot c_2\\oplus 1\\cdot c_1 \\oplus 0\\cdot c_0 = 0$\n",
        "\n",
        "iv. $|111\\rangle\\cdot c = 1\\cdot c_2\\oplus 1\\cdot c_1 \\oplus 1\\cdot c_0 = 0$\n",
        "\n",
        "la ecuación (ii) indica que $c_0 = 0$ y la (iii) y la (iv) que $c_2\\oplus c_1 =0$. Las únicas opciones para $c$ son $000$ o $110$, y como $c\\neq 0$, tenemos que $c=6$.\n",
        "\n",
        "---\n",
        "\n",
        "<details>\n",
        "<summary>Demostración del algoritmo de Simon</summary>\n",
        "Pasos:\n",
        "\n",
        "<ol>\n",
        "   <li>\n",
        "Estado inicial:\n",
        "        \n",
        "\n",
        "$$\\vert \\psi_0 \\rangle = \\vert0\\rangle^{\\otimes n} \\vert 0\\rangle^{\\otimes n}$$\n",
        "\n",
        "\n",
        "   </li>\n",
        "    \n",
        "   <li>\n",
        "Después de aplicar las primeras puertas H:\n",
        "$$\\vert \\psi_1 \\rangle = \\frac{1}{\\sqrt{2^n}}\\sum_{x=0}^{2^n-1}|0\\rangle \\vert x\\rangle$$\n",
        "   </li>\n",
        "   <p>\n",
        "   <li>\n",
        "Aplicamos $U_f$ a $\\vert y\\rangle\\vert x\\rangle$ para obtener $\\vert y \\oplus f(x)\\rangle\\vert x\\rangle$:\n",
        "$$\n",
        "\\lvert \\psi_2 \\rangle  \n",
        "= \\frac{1}{\\sqrt{2^n}}\\sum_{x=0}^{2^n-1}|0\\oplus f(x)\\rangle|x\\rangle =  \n",
        "\\frac{1}{\\sqrt{2^n}}\\sum_{x=0}^{2^n-1}|f(x)\\rangle|x\\rangle\n",
        "$$\n",
        "          </li>\n",
        "<p>\n",
        "   <li>Ahora aplicamos una H a cada cúbit en  $|x\\rangle$ (recordemos que $H^{\\otimes n}|x\\rangle = \\frac{1}{\\sqrt{2^n}} \\sum_{i=0}^{2^n-1} (-1)^{x\\cdot i}|i\\rangle)$<p>\n",
        "$$\n",
        "\\begin{aligned}\n",
        "    \\lvert \\psi_3 \\rangle\n",
        "          = \\frac{1}{2^n} \\sum_{x=0}^{2^n-1}|f(x)\\rangle \\sum_{i=0}^{2^n-1}(-1)^{x \\cdot i} \\vert i \\rangle\n",
        "          = \\frac{1}{2^n}\\sum_{x=0}^{2^n-1}\n",
        "            \\left[ \\sum_{i=0}^{2^n-1}(-1)^{x \\cdot i}\n",
        "            \\vert f(x) \\rangle \\vert i \\rangle \\right]\n",
        "\\end{aligned}\n",
        "$$\n",
        "          </li><br>\n",
        "</ol>\n",
        "\n",
        "Sabemos que para cada $\\vert x \\rangle$ y para cada $\\vert i \\rangle$ se verifica que $\\vert f(x) \\rangle\\vert i \\rangle = \\vert f(x\\oplus c) \\rangle\\vert i \\rangle$. Para un par de este tipo, los sumandos son:\n",
        "\n",
        "$$\n",
        "\\frac{(-1)^{x \\cdot i} + (-1)^{(x\\oplus c) \\cdot i}}{2^n}\\vert f(x) \\rangle\\vert i \\rangle =\n",
        "\\frac{(-1)^{x \\cdot i} + (-1)^{(x\\cdot i)\\oplus (c\\cdot i)}}{2^n}\\vert f(x)\\rangle\\vert i\\rangle =\n",
        "\\frac{(-1)^{x \\cdot i}[1+(-1)^{c \\cdot i}]}{2^n}\\vert f(x)\\rangle\\vert i\\rangle\n",
        "$$\n",
        "\n",
        "Así, si $c \\cdot i = 1$ el termino correspondiente a $\\vert f(x)\\rangle\\vert i\\rangle$ se anula, y solo quedan los terminos para los que $c \\cdot i = 0$.\n",
        "\n",
        "Repitiendo varias veces la medida, podemos encontrar diferentes valores de $|i\\rangle$ y, a partir de esas ecuaciones, obtener $c$.\n",
        "\n",
        "**Ejemplo**\n",
        "\n",
        "Supongamos $f:\\{0,1\\}^3 \\rightarrow \\{0,1\\}^3$ tal que:\n",
        "$$\n",
        "f(0) = f(5) = 4\\\\\n",
        "f(1) = f(4) = 1\\\\\n",
        "f(2) = f(7) = 5\\\\\n",
        "f(3) = f(6) = 7\n",
        "$$\n",
        "\n",
        "Es fácil comprobar que $f$ cumple los requisitos para aplicar el algoritmo de Simon.\n",
        "\n",
        "Aplicando los pasos anteriores, en el paso 3 tenemos:\n",
        "\n",
        "   \n",
        "       \n",
        "$$\n",
        "\\lvert \\psi_3 \\rangle\n",
        "                 = \\frac{1}{8}\\sum_{x=0}^{7}\n",
        "                    \\sum_{i=0}^{7}(-1)^{x \\cdot i}\n",
        "                    \\vert f(x)\\rangle\\vert i\\rangle =\n",
        "                    \\frac{1}{8}[\\\\\n",
        "|f(0)\\rangle|0\\rangle +  |f(0)\\rangle|1\\rangle +  |f(0)\\rangle|2\\rangle +  |f(0)\\rangle|3\\rangle + \\\\\n",
        "|f(0)\\rangle|4\\rangle +  |f(0)\\rangle|5\\rangle +  |f(0)\\rangle|6\\rangle +  |f(0)\\rangle|7\\rangle +\\\\[5pt]\n",
        "|f(1)\\rangle|0\\rangle -  |f(1)\\rangle|1\\rangle +  |f(1)\\rangle|2\\rangle -  |f(1)\\rangle|3\\rangle + \\\\\n",
        "|f(1)\\rangle|4\\rangle -  |f(1)\\rangle|5\\rangle +  |f(1)\\rangle|6\\rangle -  |f(1)\\rangle|7\\rangle +\\\\[5pt]\n",
        "|f(2)\\rangle|0\\rangle +  |f(2)\\rangle|1\\rangle -  |f(2)\\rangle|2\\rangle -  |f(2)\\rangle|3\\rangle + \\\\\n",
        "|f(2)\\rangle|4\\rangle +  |f(2)\\rangle|5\\rangle -  |f(2)\\rangle|6\\rangle -  |f(2)\\rangle|7\\rangle +\\\\[5pt]\n",
        "|f(3)\\rangle|0\\rangle -  |f(3)\\rangle|1\\rangle -  |f(3)\\rangle|2\\rangle +  |f(3)\\rangle|3\\rangle + \\\\\n",
        "|f(3)\\rangle|4\\rangle -  |f(3)\\rangle|5\\rangle -  |f(3)\\rangle|6\\rangle +  |f(3)\\rangle|7\\rangle +\\\\[5pt]\n",
        "|f(4)\\rangle|0\\rangle +  |f(4)\\rangle|1\\rangle +  |f(4)\\rangle|2\\rangle +  |f(4)\\rangle|3\\rangle - \\\\\n",
        "|f(4)\\rangle|4\\rangle -  |f(4)\\rangle|5\\rangle -  |f(4)\\rangle|6\\rangle -  |f(4)\\rangle|7\\rangle +\\\\[5pt]\n",
        "|f(5)\\rangle|0\\rangle -  |f(5)\\rangle|1\\rangle +  |f(5)\\rangle|2\\rangle -  |f(5)\\rangle|3\\rangle - \\\\\n",
        "|f(5)\\rangle|4\\rangle +  |f(5)\\rangle|5\\rangle -  |f(5)\\rangle|6\\rangle +  |f(5)\\rangle|7\\rangle +\\\\[5pt]\n",
        "|f(6)\\rangle|0\\rangle +  |f(6)\\rangle|1\\rangle -  |f(6)\\rangle|2\\rangle -  |f(6)\\rangle|3\\rangle - \\\\\n",
        "|f(6)\\rangle|4\\rangle -  |f(6)\\rangle|5\\rangle +  |f(6)\\rangle|6\\rangle +  |f(6)\\rangle|7\\rangle +\\\\[5pt]\n",
        "|f(7)\\rangle|0\\rangle -  |f(7)\\rangle|1\\rangle -  |f(7)\\rangle|2\\rangle +  |f(7)\\rangle|3\\rangle - \\\\\n",
        "|f(7)\\rangle|4\\rangle +  |f(7)\\rangle|5\\rangle +  |f(7)\\rangle|6\\rangle -  |f(7)\\rangle|7\\rangle\\ ]\n",
        "$$\n",
        "\n",
        "Substituyendo los valores de $f$:\n",
        "\n",
        "$$\n",
        "\\lvert \\psi_3 \\rangle = \\frac{1}{8}[\\\\\n",
        "|4\\rangle|0\\rangle +  |4\\rangle|1\\rangle +  |4\\rangle|2\\rangle +  |4\\rangle|3\\rangle +  \n",
        "|4\\rangle|4\\rangle +  |4\\rangle|5\\rangle +  |4\\rangle|6\\rangle +  |4\\rangle|7\\rangle +\\\\[5pt]\n",
        "|1\\rangle|0\\rangle -  |1\\rangle|1\\rangle +  |1\\rangle|2\\rangle -  |1\\rangle|3\\rangle +  \n",
        "|1\\rangle|4\\rangle -  |1\\rangle|5\\rangle +  |1\\rangle|6\\rangle -  |1\\rangle|7\\rangle +\\\\[5pt]\n",
        "|5\\rangle|0\\rangle +  |5\\rangle|1\\rangle -  |5\\rangle|2\\rangle -  |5\\rangle|3\\rangle +  \n",
        "|5\\rangle|4\\rangle +  |5\\rangle|5\\rangle -  |5\\rangle|6\\rangle -  |5\\rangle|7\\rangle +\\\\[5pt]\n",
        "|7\\rangle|0\\rangle -  |7\\rangle|1\\rangle -  |7\\rangle|2\\rangle +  |7\\rangle|3\\rangle +  \n",
        "|7\\rangle|4\\rangle -  |7\\rangle|5\\rangle -  |7\\rangle|6\\rangle +  |7\\rangle|7\\rangle +\\\\[5pt]\n",
        "|1\\rangle|0\\rangle +  |1\\rangle|1\\rangle +  |1\\rangle|2\\rangle +  |1\\rangle|3\\rangle -  \n",
        "|1\\rangle|4\\rangle -  |1\\rangle|5\\rangle -  |1\\rangle|6\\rangle -  |1\\rangle|7\\rangle +\\\\[5pt]\n",
        "|4\\rangle|0\\rangle -  |4\\rangle|1\\rangle +  |4\\rangle|2\\rangle -  |4\\rangle|3\\rangle -  \n",
        "|4\\rangle|4\\rangle +  |4\\rangle|5\\rangle -  |4\\rangle|6\\rangle +  |4\\rangle|7\\rangle +\\\\[5pt]\n",
        "|7\\rangle|0\\rangle +  |7\\rangle|1\\rangle -  |7\\rangle|2\\rangle -  |7\\rangle|3\\rangle -  \n",
        "|7\\rangle|4\\rangle -  |7\\rangle|5\\rangle +  |7\\rangle|6\\rangle +  |7\\rangle|7\\rangle +\\\\[5pt]\n",
        "|5\\rangle|0\\rangle -  |5\\rangle|1\\rangle -  |5\\rangle|2\\rangle +  |5\\rangle|3\\rangle -  \n",
        "|5\\rangle|4\\rangle +  |5\\rangle|5\\rangle +  |5\\rangle|6\\rangle -  |5\\rangle|7\\rangle\\ ]\n",
        "$$\n",
        "\n",
        "Simplificando:\n",
        "$$\n",
        "\\lvert \\psi_3 \\rangle = \\frac{1}{4}\\left[\\\\\n",
        "|4\\rangle|0\\rangle+|1\\rangle|0\\rangle+|5\\rangle|0\\rangle+|7\\rangle|0\\rangle+\\\\\n",
        "|4\\rangle|2\\rangle+|1\\rangle|2\\rangle-|5\\rangle|2\\rangle-|7\\rangle|2\\rangle+\\\\\n",
        "|4\\rangle|5\\rangle-|1\\rangle|5\\rangle+|5\\rangle|5\\rangle-|7\\rangle|5\\rangle+\\\\\n",
        "|4\\rangle|7\\rangle-|1\\rangle|7\\rangle-|5\\rangle|7\\rangle+|7\\rangle|7\\rangle\\ \\right]\n",
        "$$\n",
        "\n",
        "Que podemos escribir como:\n",
        "$$\n",
        "\\lvert \\psi_3 \\rangle = \\frac{1}{4}\\left[\\\\\n",
        "(|4\\rangle+|1\\rangle+|5\\rangle+|7\\rangle) \\otimes|0\\rangle+\\\\\n",
        "(|4\\rangle+|1\\rangle-|5\\rangle-|7\\rangle)\\otimes|2\\rangle+\\\\\n",
        "(|4\\rangle-|1\\rangle+|5\\rangle-|7\\rangle)\\otimes|5\\rangle+\\\\\n",
        "(|4\\rangle-|1\\rangle-|5\\rangle+|7\\rangle)\\otimes|7\\rangle\\ \\right]\n",
        "$$\n",
        "\n",
        "Al medir los 3 bits $|x\\rangle$ obtenemos, con igual probabilidad, $|000\\rangle$, $|010\\rangle$, $|101\\rangle$ o $|111\\rangle$. Para esos valores, su producto bit a bit por $c$ (módulo 2) da 0, por lo que tenemos, si $c=c_2c_1c_0$, con $c_i\\in \\{0,1\\}$, las siguientes ecuaciones:\n",
        "\n",
        "i. $|000\\rangle\\cdot c = 0\\cdot c_2\\oplus 0\\cdot c_1 \\oplus 0\\cdot c_0 = 0$\n",
        "\n",
        "ii. $|010\\rangle\\cdot c = 0\\cdot c_2\\oplus 1\\cdot c_1 \\oplus 0\\cdot c_0 = 0$\n",
        "\n",
        "iii. $|101\\rangle\\cdot c = 1\\cdot c_2\\oplus 0\\cdot c_1 \\oplus 1\\cdot c_0 = 0$\n",
        "\n",
        "iv. $|111\\rangle\\cdot c = 1\\cdot c_2\\oplus 1\\cdot c_1 \\oplus 1\\cdot c_0 = 0$\n",
        "\n",
        "la ecuación (ii) indica que $c_1 = 0$, la (iii) que $c_2\\oplus c_0 =0$ y la (iv) que $c_2\\oplus c_1 \\oplus c_0 =0$. Las únicas opciones para $c$ son $000$ o $101$, y como $c\\neq 0$, tenemos que $c=5$.\n",
        "\n",
        "</details>"
      ]
    },
    {
      "cell_type": "markdown",
      "id": "e7ed6b0f",
      "metadata": {
        "id": "e7ed6b0f"
      },
      "source": [
        "-------------------------\n",
        "--------------------\n",
        "-------------------"
      ]
    },
    {
      "cell_type": "markdown",
      "id": "monetary-aerospace",
      "metadata": {
        "id": "monetary-aerospace"
      },
      "source": [
        "# **Algoritmo de búsqueda de Grover: amplificación de amplitud** <a name=\"grover\"></a>"
      ]
    },
    {
      "cell_type": "markdown",
      "id": "outstanding-paper",
      "metadata": {
        "id": "outstanding-paper"
      },
      "source": [
        "Este algoritmo busca un dato en una lista no estructurada.\n",
        "\n",
        "El oráculo $f:\\{0,1\\}^n \\rightarrow \\{0,1\\}$ es tal que existe un único $x_i$ tal que:\n",
        "$$\n",
        "f(x) =\n",
        "\\begin{cases}\n",
        "1, \\text{si } x=x_i\\\\\n",
        "0, \\text{si } x\\ne x_i\n",
        "\\end{cases}\n",
        "$$\n",
        "\n",
        "Buscamos $x_i$.\n",
        "\n",
        "**Nota**: Es posible generalizar el algoritmo para cuando existe más de un dato $x_i$\n",
        "\n",
        "**Solución clásica**\n",
        "\n",
        "Si $N=2^n$ es el número de datos en la lista, un algoritmo clásico necesita efectuar, en el peor de los casos $N$ evaluaciones de $f(x)$, y de media $N/2$, por lo que la complejidad es $\\mathcal{O}(2^n)$\n",
        "\n",
        "**Solución cuántica**\n",
        "\n",
        "El algoritmo cuántico ([L. K. Grover, 1996](http://doi.acm.org/10.1145/237814.237866)) solo necesita $\\mathcal{O}\\left(\\sqrt{2^n}\\right)$ evaluaciones.\n",
        "\n",
        "El algoritmo tiene dos partes:\n",
        "\n",
        "### Inversión de fase\n",
        "\n",
        "En esta parte, se busca invertir el signo del cúbit $|x_i\\rangle$, es decir, pasar de la superposición completa $\\tfrac{1}{\\sqrt{2^n}}\\sum_{x=0}^{n-1}|x\\rangle$ a:\n",
        "\n",
        "$$\n",
        "\\frac{1}{\\sqrt{2^{n}}}\\left(\\sum_{x\\ne x_i}|x\\rangle- |x_i\\rangle\\right)\n",
        "$$\n",
        "\n",
        "Un oráculo que implementa esta inversión es:\n",
        "\n",
        "<center><img src=\"https://drive.google.com/uc?export=view&id=136kAs3r6LXcsBEONPH_j1Y_SnsqrsDVX\" alt=\"Grover Inversión de fase\" width=\"600\"  /></center>\n",
        "\n",
        "<details>\n",
        "<summary>Demostración de la inversion de fase</summary>\n",
        "Pasos:\n",
        "\n",
        "<ol>\n",
        "   <li>\n",
        "        Estado inicial:\n",
        "        \n",
        "\n",
        "$$\\vert \\psi_0 \\rangle =  \\vert1\\rangle\\vert0\\rangle^{\\otimes n}$$\n",
        "\n",
        "\n",
        "   </li>\n",
        "    \n",
        "   <li>\n",
        "        Después de aplicar las primeras puertas H:\n",
        "$$\\vert \\psi_1 \\rangle = \\frac{1}{\\sqrt{2^{n+1}}}\\sum_{x=0}^{2^n-1} (|0\\rangle-|1\\rangle)\\vert x\\rangle $$\n",
        "   </li>\n",
        "   <p>\n",
        "   <li>\n",
        "        Aplicamos $U_f$ a $\\vert y\\rangle\\vert x\\rangle$ para obtener $\\vert y \\oplus f(x)\\rangle\\vert x\\rangle$:\n",
        "        $$\n",
        "            \\lvert \\psi_2 \\rangle  \n",
        "                 = \\frac{1}{\\sqrt{2^{n+1}}}\\sum_{x=0}^{2^n-1}(|0\\oplus f(x)\\rangle - |1\\oplus f(x)\\rangle)|x\\rangle\n",
        "        $$\n",
        "          </li>\n",
        "<p>\n",
        "   <li>Como $f(x) = 1$ si $x = x_i$ y $f(x)=0$ en otro caso podemos escribir:\n",
        "$$\n",
        "\\begin{aligned}\n",
        "\\lvert \\psi_2 \\rangle  \n",
        "&= \\frac{1}{\\sqrt{2^{n+1}}}\\left[\\left(|0\\oplus f(x_i)\\rangle - |1\\oplus f(x_i)\\rangle\\right)|x_i\\rangle + \\sum_{x\\ne x_i}\\left(|0\\oplus f(x)\\rangle - |1\\oplus f(x)\\rangle\\right)|x\\rangle\\right] \\\\\n",
        "&= \\frac{1}{\\sqrt{2^{n+1}}}\\left[(|1\\rangle - |0\\rangle)|x_i\\rangle + \\sum_{x\\ne x_i}\\left(|0\\rangle - |1\\rangle\\right)|x\\rangle\\right] \\\\\n",
        "&= \\frac{1}{\\sqrt{2^{n+1}}}\\left[\\left(\\sum_{x\\ne x_i}\\left(|0\\rangle - |1\\rangle\\right)|x\\rangle\\right) - (|0\\rangle - |1\\rangle)|x_i\\rangle\\right] \\\\\n",
        "&= \\frac{|0\\rangle - |1\\rangle}{\\sqrt{2}}\\frac{\\sum_{x\\ne x_i}|x\\rangle- |x_i\\rangle}{\\sqrt{2^{n}}}\n",
        "\\end{aligned}\n",
        "$$  \n",
        "          </li><br>\n",
        "</ol>\n",
        "\n",
        "El estado que medimos es, por lo tanto:\n",
        "\n",
        "$$\n",
        "\\frac{\\sum_{x\\ne x_i}|x\\rangle- |x_i\\rangle}{\\sqrt{2^{n}}}\n",
        "$$\n",
        "\n",
        "Vemos que el estado $|x_i\\rangle$ aparece con signo negativo.\n",
        "</details>"
      ]
    },
    {
      "cell_type": "markdown",
      "source": [
        "### Implementación en Qiskit\n",
        "\n",
        "Empezamos implementando el oráculo $f:\\{0,1\\}^n \\rightarrow \\{0,1\\}$ con un único $x_i$ tal que:\n",
        "$$\n",
        "f(x) =\n",
        "\\begin{cases}\n",
        "1, \\text{si } x=x_i\\\\\n",
        "0, \\text{si } x\\ne x_i\n",
        "\\end{cases}\n",
        "$$\n",
        "\n",
        "Para ello hacemos uso de una puerta multicontrolada MCMT"
      ],
      "metadata": {
        "id": "ABFbIXOqdy3q"
      },
      "id": "ABFbIXOqdy3q"
    },
    {
      "cell_type": "code",
      "source": [
        "# Definimos un oráculo f(x) tal que f(xi) = 1 y f(x) = 0 para x != xi\n",
        "from qiskit.circuit.library import MCMTGate, XGate\n",
        "def oraculo_grover(n,xi):\n",
        "  entrada = QuantumRegister(n, name=\"|entrada\\\\rangle\")\n",
        "  salida =  QuantumRegister(1, name=\"|salida\\\\rangle\")\n",
        "  qc = QuantumCircuit(entrada,salida)\n",
        "\n",
        "  # Invertimos los cubits para los que xi tenga un bit a 0\n",
        "  temp = xi\n",
        "  for b in range(n):\n",
        "    if(temp & 1 == 0):\n",
        "        qc.x(b)\n",
        "    temp >>= 1\n",
        "\n",
        "  # Pongo la salida a 1 para el estado 111..11\n",
        "  qc = qc.compose(MCMTGate(XGate(),n,1)) # Puerta X controlada con n bits de control y 1 target\n",
        "\n",
        "  # Recuperamos la x\n",
        "  # Invertimos los cubits para los que xi tenga un bit a 0\n",
        "  temp = xi\n",
        "  for b in range(n):\n",
        "    if(temp & 1 == 0):\n",
        "        qc.x(b)\n",
        "    temp >>= 1\n",
        "\n",
        "  return qc\n",
        "\n",
        "# Vemos el oráculo con 3 cúbits y xi=6=110\n",
        "oraculo_grover(3,6).draw('mpl')"
      ],
      "metadata": {
        "id": "xfHl4LFgeb2S",
        "colab": {
          "base_uri": "https://localhost:8080/",
          "height": 320
        },
        "outputId": "4f6bff45-abd2-45b3-f9e3-c7731cbbf83a"
      },
      "id": "xfHl4LFgeb2S",
      "execution_count": 20,
      "outputs": [
        {
          "output_type": "execute_result",
          "data": {
            "text/plain": [
              "<Figure size 491.5x367.889 with 1 Axes>"
            ],
            "image/png": "[encoded data removed]"
          },
          "metadata": {},
          "execution_count": 20
        }
      ]
    },
    {
      "cell_type": "markdown",
      "source": [
        "Probamos el oráculo"
      ],
      "metadata": {
        "id": "xLRlxhNNeiL7"
      },
      "id": "xLRlxhNNeiL7"
    },
    {
      "cell_type": "code",
      "source": [
        "import random\n",
        "n = 4 # Número de cúbits\n",
        "xi = random.randint(0, 2**n - 1) # xi aleatorio\n",
        "\n",
        "entrada = QuantumRegister(n, name=\"|x\\\\rangle\")\n",
        "ancilla = QuantumRegister(1, name=\"|y\\\\rangle\")\n",
        "meas = ClassicalRegister(1)\n",
        "sim = AerSimulator(method='automatic')\n",
        "\n",
        "# Probamos para todas las posibles entradas simples (|0>, |1>...)\n",
        "for x in range(2**n):\n",
        "  # Creamos el circuito incluyendo la medida de la ancilla\n",
        "  qc_test = QuantumCircuit(entrada,ancilla, meas)\n",
        "\n",
        "  # Incializamos el circuito al estado |x>\n",
        "  estado_x = Statevector.from_int(x, 2**n)\n",
        "\n",
        "  qc_test.initialize(estado_x,entrada)\n",
        "\n",
        "  # Le añadimos el oráculo\n",
        "  qc_test = qc_test.compose(oraculo_grover(n,xi))\n",
        "\n",
        "  # Medimos la ancilla\n",
        "  qc_test.measure(ancilla, meas)\n",
        "\n",
        "  # Simulamos para ver la salida\n",
        "  qc_obj = transpile(qc_test,sim)\n",
        "  result = sim.run(qc_obj).result()\n",
        "  salida = result.get_counts()\n",
        "  print(\"f({}) = {}\".format(x,list(salida.keys())[0]))"
      ],
      "metadata": {
        "id": "OezW-oZYTQ1W",
        "colab": {
          "base_uri": "https://localhost:8080/"
        },
        "outputId": "8c502aad-df1a-48f6-8397-fa8e29904065"
      },
      "id": "OezW-oZYTQ1W",
      "execution_count": 21,
      "outputs": [
        {
          "output_type": "stream",
          "name": "stdout",
          "text": [
            "f(0) = 0\n",
            "f(1) = 0\n",
            "f(2) = 0\n",
            "f(3) = 0\n",
            "f(4) = 0\n",
            "f(5) = 0\n",
            "f(6) = 0\n",
            "f(7) = 0\n",
            "f(8) = 0\n",
            "f(9) = 0\n",
            "f(10) = 0\n",
            "f(11) = 0\n",
            "f(12) = 1\n",
            "f(13) = 0\n",
            "f(14) = 0\n",
            "f(15) = 0\n"
          ]
        }
      ]
    },
    {
      "cell_type": "code",
      "source": [
        "print(\"Valor buscado xi={}\".format(xi))"
      ],
      "metadata": {
        "id": "MlvoR4KyrTxh",
        "colab": {
          "base_uri": "https://localhost:8080/"
        },
        "outputId": "9a49541a-60b7-40fc-cffb-596e7a08d263"
      },
      "id": "MlvoR4KyrTxh",
      "execution_count": 21,
      "outputs": [
        {
          "output_type": "stream",
          "name": "stdout",
          "text": [
            "Valor buscado xi=10\n"
          ]
        }
      ]
    },
    {
      "cell_type": "markdown",
      "source": [
        "Definimos ahora el inversor"
      ],
      "metadata": {
        "id": "UHi2DpZeSn5T"
      },
      "id": "UHi2DpZeSn5T"
    },
    {
      "cell_type": "code",
      "source": [
        "from qiskit.circuit.library import MCMTGate, ZGate\n",
        "def inversor_grover(n, xi):\n",
        "  x = QuantumRegister(n, name=\"|x\\\\rangle\")\n",
        "  y = QuantumRegister(1, name=\"|y\\\\rangle\")\n",
        "  qc = QuantumCircuit(x,y)\n",
        "\n",
        "  # Le aplico las puertas a la anc¡lla\n",
        "  qc.x(y)\n",
        "  qc.h(y)\n",
        "\n",
        "  # Le añado el oráculo\n",
        "  qc = qc.compose(oraculo_grover(n, xi))\n",
        "\n",
        "  # Recupero la ancilla (necesario porque vamos a llamar al inversor varias veces)\n",
        "  qc.h(y)\n",
        "  qc.x(y)\n",
        "\n",
        "  return qc"
      ],
      "metadata": {
        "id": "nF8Z7oUPSuaS"
      },
      "id": "nF8Z7oUPSuaS",
      "execution_count": 22,
      "outputs": []
    },
    {
      "cell_type": "markdown",
      "source": [
        "Probamos el inversor"
      ],
      "metadata": {
        "id": "lLalU4d1Jgju"
      },
      "id": "lLalU4d1Jgju"
    },
    {
      "cell_type": "code",
      "source": [
        "n = 4 # Número de cúbits\n",
        "xi = random.randint(0, 2**n - 1) # xi aleatorio\n",
        "\n",
        "x = QuantumRegister(n, name=\"|x\\\\rangle\")\n",
        "y = QuantumRegister(1, name=\"|y\\\\rangle\")\n",
        "\n",
        "qc = QuantumCircuit(x, y)\n",
        "\n",
        "# Ponemos la entrada en superposición\n",
        "qc.h(x)\n",
        "\n",
        "qc.barrier()\n",
        "\n",
        "qc = qc.compose(inversor_grover(n, xi))\n",
        "\n",
        "display(qc.draw('mpl'))\n",
        "\n",
        "obten_estado(qc)"
      ],
      "metadata": {
        "id": "R5HY9cEL2pHm",
        "colab": {
          "base_uri": "https://localhost:8080/",
          "height": 427
        },
        "outputId": "196a9d0d-2d4b-48b1-ce02-24bbf8a376d3"
      },
      "id": "R5HY9cEL2pHm",
      "execution_count": 23,
      "outputs": [
        {
          "output_type": "display_data",
          "data": {
            "text/plain": [
              "<Figure size 729.792x451.5 with 1 Axes>"
            ],
            "image/png": "[encoded data removed]"
          },
          "metadata": {}
        },
        {
          "output_type": "display_data",
          "data": {
            "text/plain": [
              "<IPython.core.display.Latex object>"
            ],
            "text/latex": "$$|\\psi\\!\\!> = \\frac{1}{4} |00000\\rangle+\\frac{1}{4} |00001\\rangle+\\frac{1}{4} |00010\\rangle+\\frac{1}{4} |00011\\rangle+\\frac{1}{4} |00100\\rangle+\\frac{1}{4} |00101\\rangle+\\frac{1}{4} |00110\\rangle+\\frac{1}{4} |00111\\rangle+\\frac{1}{4} |01000\\rangle+\\frac{1}{4} |01001\\rangle+\\frac{1}{4} |01010\\rangle+\\frac{1}{4} |01011\\rangle+\\frac{1}{4} |01100\\rangle+\\frac{1}{4} |01101\\rangle+\\frac{1}{4} |01110\\rangle- \\frac{1}{4} |01111\\rangle$$"
          },
          "metadata": {}
        }
      ]
    },
    {
      "cell_type": "code",
      "source": [
        "print(\"Valor buscado xi={}\".format(xi))"
      ],
      "metadata": {
        "id": "tltfiJFrzAo2",
        "colab": {
          "base_uri": "https://localhost:8080/"
        },
        "outputId": "8754f01f-a2df-42be-f99c-6cd587a28507"
      },
      "id": "tltfiJFrzAo2",
      "execution_count": 24,
      "outputs": [
        {
          "output_type": "stream",
          "name": "stdout",
          "text": [
            "Valor buscado xi=15\n"
          ]
        }
      ]
    },
    {
      "cell_type": "markdown",
      "id": "715395e3",
      "metadata": {
        "id": "715395e3"
      },
      "source": [
        "El problema es que, al medir, obtenemos con igual probabilidad cualquier valor de $|x\\rangle$ ya que lo único que diferencia a $|x_i\\rangle$ es la fase. Necesitamos convertir diferencias de fase en diferencias de amplitud."
      ]
    },
    {
      "cell_type": "markdown",
      "id": "waiting-onion",
      "metadata": {
        "id": "waiting-onion"
      },
      "source": [
        "## Amplificación de amplitud"
      ]
    },
    {
      "cell_type": "markdown",
      "id": "static-rider",
      "metadata": {
        "id": "static-rider"
      },
      "source": [
        "La AA se basa en aumentar la amplitud de los estados que tengan una fase negativa. La idea básica es la *inversión sobre la media*.\n",
        "\n",
        "Supongamos el vector (decimal) $v=[10,10,10,-10,10]^T$. La media de esos valores es $\\overline{v}=6$.\n",
        "\n",
        "Invertir sobre la media consiste en repetir esta operación:\n",
        "\n",
        "$$\n",
        "v^\\prime = \\overline{v} + (\\overline{v}-v) = 2\\overline{v} -v,\\quad i = 0,1,2\\ldots\n",
        "$$\n",
        "\n",
        "cambiando en cada iteración el signo del elemento negativo de $v$.\n",
        "\n",
        "Aplicando esta operación al vector anterior obtenemos $v^\\prime=[2,2,2,22,2]^T$. La media sigue siendo la misma pero el tercer valor, antes negativo, se separa del resto.\n",
        "\n",
        "Si negamos el tercer elemento tenemos $v=[2,2,2,-22,2]^T$ de media $\\overline{v}=-2.8$.\n",
        "\n",
        "Repitiendo el procedimiento, obtenemos $v^\\prime=[-7.6,-7.6,-7.6,16.4,-7.6]^T$. La diferencia entre $v[3]$ y el resto de valores pasa a ser de 24.\n",
        "\n",
        "A medida que aplicamos la inversión sobre la media esta diferencia se agranda, pero llega un punto en que empieza a disminuir (cuando al invertir el elemento se igualan los signos). Se puede demostrar que para un vector de $N$ elementos, el número de inversiones que obtienen la máxima separación es $\\mathcal{O}(\\sqrt{N})$.\n",
        "\n",
        "Podemos expresar este mecanismo usando matrices. Sea, de nuevo, $v=[10,10,10,-10,10]^T$ y la matriz:\n",
        "\n",
        "$$\n",
        "A=\\frac{1}{5}\n",
        "\\begin{bmatrix}\n",
        "1 & 1 & 1 & 1 & 1\\\\\n",
        "1 & 1 & 1 & 1 & 1\\\\\n",
        "1 & 1 & 1 & 1 & 1\\\\\n",
        "1 & 1 & 1 & 1 & 1\\\\\n",
        "1 & 1 & 1 & 1 & 1\n",
        "\\end{bmatrix}\n",
        "$$\n",
        "\n",
        "Está claro que $Av = [6,6,6,6,6]^T = [\\overline{v}, \\overline{v}, \\overline{v}, \\overline{v}, \\overline{v}]^T$. La operación de inversión la podemos expresar como una operación matricial:\n",
        "\n",
        "$$v^\\prime=2Av-v=(2A-I)v$$\n",
        "\n",
        "Para un vector de $2^n$ elementos, la matriz $2A-1$ será de $2^n\\times 2^n$:\n",
        "$$\n",
        "2A-I=\\frac{2}{2^n}\n",
        "  \\begin{bmatrix}\n",
        "    1 & 1 & \\dots & 1 \\\\\n",
        "    1 & 1 & \\dots & 1 \\\\\n",
        "    \\vdots & \\vdots & \\ddots & \\vdots \\\\\n",
        "    1 & 1 & \\dots & 1\n",
        "  \\end{bmatrix}-\n",
        "  \\begin{bmatrix}\n",
        "    1 & 0 & \\dots & 0 \\\\\n",
        "    0 & 1 & \\dots & 0 \\\\\n",
        "    \\vdots & \\vdots & \\ddots & \\vdots \\\\\n",
        "    0 & 0 & \\dots & 1\n",
        "  \\end{bmatrix} =\\frac{1}{2^{n-1}}\n",
        "  \\begin{bmatrix}\n",
        "    1-2^{n-1} & 1 & \\dots & 1 \\\\\n",
        "    1 & 1-2^{n-1} & \\dots & 1 \\\\\n",
        "    \\vdots & \\vdots & \\ddots & \\vdots \\\\\n",
        "    1 & 1 & \\dots & 1-2^{n-1}\n",
        "  \\end{bmatrix}\n",
        "$$\n",
        "\n",
        "Se puede demostrar que $U = 2A-I$ es una matriz unitaria, por lo que se puede contruir en un circuito cuántico.\n",
        "\n",
        "\n",
        "Para el caso de 2 cúbits, la matriz $2A-I$ queda:\n",
        "$$\n",
        "2A-I=\\frac{1}{2}\n",
        "  \\begin{bmatrix}\n",
        "    -1 & 1 & 1 & 1 \\\\\n",
        "    1 & -1 & 1 & 1 \\\\\n",
        "    1 & 1 & -1 & 1 \\\\\n",
        "    1 & 1 & 1 & -1\n",
        "  \\end{bmatrix}\n",
        "$$\n",
        "\n",
        "Esta matriz, que se llama operador de difusión o _difusor_ $R_s$, se puede implementar (salvo una fase global) con el siguiente circuito:"
      ]
    },
    {
      "cell_type": "code",
      "source": [
        "from qiskit.circuit.library import MCMTGate, ZGate\n",
        "\n",
        "def difusor_grover(nqubits):\n",
        "    # Punemos 1 cubit adicional para combinarlo con el inversor\n",
        "    qc = QuantumCircuit(nqubits+1)\n",
        "    # H-gates\n",
        "    qc.h(range(nqubits))\n",
        "\n",
        "    # X-gates\n",
        "    qc.x(range(nqubits))\n",
        "\n",
        "    # Puerta Z multicontrolada\n",
        "    qc = qc.compose(MCMTGate(ZGate(),nqubits-1, 1))\n",
        "\n",
        "    # X-gates\n",
        "    qc.x(range(nqubits))\n",
        "\n",
        "    # H-gates\n",
        "    qc.h(range(nqubits))\n",
        "\n",
        "    return qc\n",
        "\n",
        "qc = difusor_grover(4)\n",
        "display(qc.draw('mpl'))\n"
      ],
      "metadata": {
        "id": "x6SKA66sBKTl",
        "colab": {
          "base_uri": "https://localhost:8080/",
          "height": 384
        },
        "outputId": "e78b553c-2553-452d-bb70-f056cfc1595b"
      },
      "id": "x6SKA66sBKTl",
      "execution_count": 25,
      "outputs": [
        {
          "output_type": "display_data",
          "data": {
            "text/plain": [
              "<Figure size 538.33x451.5 with 1 Axes>"
            ],
            "image/png": "[encoded data removed]"
          },
          "metadata": {}
        }
      ]
    },
    {
      "cell_type": "markdown",
      "id": "checked-lighting",
      "metadata": {
        "id": "checked-lighting"
      },
      "source": [
        "Juntando la inversión de fase con la amplificación de amplitud, el circuito que implementa el algoritmo de Grover queda:\n",
        "\n",
        "<center><img src=\"https://drive.google.com/uc?export=view&id=1zHNncIAcNP5Cyew3TgiKhpMGEAfagPW2\" alt=\"Grover completo\" width=\"800\"  /></center>\n",
        "\n",
        "Se puede demostrar que el número de repeticiones óptimo es:\n",
        "\n",
        "$$\n",
        "N_{reps} \\approx \\frac{\\pi}{4}\\sqrt{2^n}\n",
        "$$\n",
        "\n",
        "En el caso de tener $k$ elementos marcados, con $k \\ll 2^n$, el número de repeticiones adecuado es:\n",
        "\n",
        "$$\n",
        "N_{reps} =  \\left\\lfloor\\frac{\\pi}{4}\\sqrt{2^n/k}\\right\\rfloor\n",
        "$$"
      ]
    },
    {
      "cell_type": "code",
      "source": [
        "def grover(n,xi):\n",
        "    # Combina las dos partes de Grover\n",
        "    qc = QuantumCircuit(n+1)\n",
        "\n",
        "    # Inversor\n",
        "    qc = qc.compose(inversor_grover(n,xi))\n",
        "    qc.barrier()\n",
        "\n",
        "    # Difusor\n",
        "    qc = qc.compose(difusor_grover(n))\n",
        "    qc.barrier()\n",
        "\n",
        "    return qc"
      ],
      "metadata": {
        "id": "Iphc6uesCkxY"
      },
      "id": "Iphc6uesCkxY",
      "execution_count": 26,
      "outputs": []
    },
    {
      "cell_type": "code",
      "source": [
        "n = 4\n",
        "xi = random.randint(0, 2**n - 1) # xi aleatorio\n",
        "\n",
        "# Circuito con n+1 cúbut y n bits de medida\n",
        "qc= QuantumCircuit(n+1, n)\n",
        "\n",
        "# Ponemos los qbits en superposición\n",
        "qc.h(range(n))\n",
        "\n",
        "qc.barrier()\n",
        "\n",
        "# Numero de iteraciones ideal\n",
        "niters = int((np.pi/4)*np.sqrt(2**n))\n",
        "\n",
        "print(\"Numero de iteraciones ideal = {}\".format(niters))\n",
        "\n",
        "for iter in range(niters):\n",
        "  qc = qc.compose(grover(n,xi))\n",
        "\n",
        "# Añado las medidas\n",
        "qc.measure(range(n),range(n))\n",
        "qc.draw('mpl')"
      ],
      "metadata": {
        "id": "62xHq_6aDOAb",
        "colab": {
          "base_uri": "https://localhost:8080/",
          "height": 750
        },
        "outputId": "aef01a17-0f0a-485e-9212-280d1a6a788c"
      },
      "id": "62xHq_6aDOAb",
      "execution_count": 27,
      "outputs": [
        {
          "output_type": "stream",
          "name": "stdout",
          "text": [
            "Numero de iteraciones ideal = 3\n"
          ]
        },
        {
          "output_type": "execute_result",
          "data": {
            "text/plain": [
              "<Figure size 2210.55x1120.39 with 1 Axes>"
            ],
            "image/png": "[encoded data removed]"
          },
          "metadata": {},
          "execution_count": 27
        }
      ]
    },
    {
      "cell_type": "code",
      "source": [
        "sim = AerSimulator(method=\"automatic\")\n",
        "qc_obj = transpile(qc, sim)\n",
        "job_sim = sim.run(qc_obj, shots=1024)\n",
        "result = job_sim.result()\n",
        "salida = result.get_counts()\n",
        "plot_histogram(salida, figsize=(10,5))"
      ],
      "metadata": {
        "id": "LEMGmn1dFhdv",
        "colab": {
          "base_uri": "https://localhost:8080/",
          "height": 507
        },
        "outputId": "4df3be42-d921-40d3-dfa8-515a19e2494a"
      },
      "id": "LEMGmn1dFhdv",
      "execution_count": 28,
      "outputs": [
        {
          "output_type": "execute_result",
          "data": {
            "text/plain": [
              "<Figure size 1000x500 with 1 Axes>"
            ],
            "image/png": "[encoded data removed]"
          },
          "metadata": {},
          "execution_count": 28
        }
      ]
    },
    {
      "cell_type": "code",
      "source": [
        "print(\"Valor buscado = \", xi)"
      ],
      "metadata": {
        "id": "koV4egNyCKfE",
        "colab": {
          "base_uri": "https://localhost:8080/"
        },
        "outputId": "409d7f31-0e9e-4ae1-a667-cd0d1a516b8d"
      },
      "id": "koV4egNyCKfE",
      "execution_count": 29,
      "outputs": [
        {
          "output_type": "stream",
          "name": "stdout",
          "text": [
            "Valor buscado =  7\n"
          ]
        }
      ]
    },
    {
      "cell_type": "markdown",
      "source": [
        "# **Transformada de Fourier cuántica (QFT)** <a name=\"qft\"></a>\n",
        "\n",
        "La [transformada discreta de Fourier](https://es.wikipedia.org/wiki/Transformada_de_Fourier_discreta) actúa sobre un vector $x=(x_0, ..., x_{N-1})$ y lo transforma en un vector  $\\widetilde{x}=(\\widetilde{x}_0,\\ldots,\\widetilde{x}_{N-1})$ según la siguiente ecuación:\n",
        "\n",
        "\n",
        "$$\\widetilde{x}_k = \\frac{1}{\\sqrt{N}}\\sum_{j=0}^{N-1}x_j\\omega_N^{kj}$$\n",
        "\n",
        "\n",
        "donde $\\omega_N^{kj} = e^{\\frac{2\\pi i}{N}{kj}}$.\n",
        "\n",
        "De forma similar, la transformada cuántica de Fourier actúa en un estado cuántico de $n$ cúbits $|x\\rangle = \\sum_{i=0}^{N-1} x_i \\vert i \\rangle$, con $N=2^n$, y lo transforma en el estado cuántico $|\\widetilde{x}\\rangle = \\sum_{i=0}^{N-1} \\widetilde{x}_i \\vert i \\rangle$ según la siguiente ecuación:\n",
        "\n",
        "\n",
        "$$\\widetilde{x}_k = \\frac{1}{\\sqrt{N}}\\sum_{j=0}^{N-1}x_j\\omega_N^{kj}$$\n",
        "\n",
        "\n",
        "con $\\omega_N^{kj}$ igual que antes.\n",
        "\n",
        "La complejidad de la QFT al calcular la transformada de un vector de tamaño $N$ es $\\mathcal{O}(\\log^2N)$, frente a la versión clásica (FFT) que es $\\mathcal{O}(N\\log N)$"
      ],
      "metadata": {
        "id": "zSHKvoHimPhR"
      },
      "id": "zSHKvoHimPhR"
    },
    {
      "cell_type": "markdown",
      "source": [
        "\n",
        "\n",
        "---\n",
        "\n",
        "**Ejemplo**: QFT de 1 cúbit (N=2)\n",
        "\n",
        "Sea $|x\\rangle = x_0|0\\rangle+x_1|1\\rangle$.\n",
        "\n",
        "Como $\\omega_2 = e^{\\frac{2\\pi i}{N}} = e^{\\pi i}$, tenemos:\n",
        "\n",
        "$$\n",
        "\\widetilde x_0 = \\frac{1}{\\sqrt{2}}\\left[x_0 \\omega_2^{0\\cdot 0} + x_1 \\omega_2^{0\\cdot 1}\\right] = \\frac{1}{\\sqrt{2}}\\left[x_0+ x_1\\right]\\\\\n",
        "\\widetilde x_1 = \\frac{1}{\\sqrt{2}}\\left[x_0 \\omega_2^{0\\cdot 1} + x_1 \\omega_2^{1\\cdot 1}\\right] = \\frac{1}{\\sqrt{2}}\\left[x_0+ x_1 e^{\\pi i}\\right] = \\frac{1}{\\sqrt{2}}\\left[x_0- x_1\\right]\n",
        "$$\n",
        "\n",
        "El estado transformado es, por tanto:\n",
        "\n",
        "$$\n",
        "|\\widetilde{x}\\rangle =\n",
        "\\frac{1}{\\sqrt{2}}\n",
        "\\begin{bmatrix}\n",
        "x_0 + x_1\\\\\n",
        "x_0 - x_1\n",
        "\\end{bmatrix} =\n",
        "\\frac{1}{\\sqrt{2}}\n",
        "\\begin{bmatrix}\n",
        "1 & 1\\\\\n",
        "1 & -1\n",
        "\\end{bmatrix}\n",
        "\\begin{bmatrix}\n",
        "x_0\\\\\n",
        "x_1\n",
        "\\end{bmatrix} = H|x\\rangle\n",
        "$$\n",
        "\n",
        "La puerta Hadamard implementa la QFT de 1 qubit.\n",
        "\n",
        "\n",
        "---\n",
        "\n"
      ],
      "metadata": {
        "id": "35F7Iz-nmjDc"
      },
      "id": "35F7Iz-nmjDc"
    },
    {
      "cell_type": "markdown",
      "source": [
        "#### Matriz unitaria de la QFT\n",
        "\n",
        "Podemos expresar la QFT como una operación matricial:\n",
        "\n",
        "$$\n",
        "\\begin{aligned}\n",
        "\\begin{bmatrix}\n",
        "\\widetilde{x}_0\\\\\n",
        "\\widetilde{x}_1\\\\\n",
        "\\widetilde{x}_2\\\\\n",
        "\\widetilde{x}_3\\\\\n",
        "\\vdots \\\\\n",
        "\\widetilde{x}_{N-1}\n",
        "\\end{bmatrix} = \\frac{1}{\\sqrt{N}}\n",
        "\\begin{bmatrix}\n",
        "\\omega^{0\\cdot 0} & \\omega^{0\\cdot 1} & \\omega^{0\\cdot 2} & \\omega^{0\\cdot 3} &\\dots & \\omega^{0\\cdot (N-1)}\\\\\n",
        "\\omega^{1\\cdot 0} & \\omega^{1\\cdot 1} & \\omega^{1\\cdot 2} & \\omega^{1\\cdot 3} & \\dots & \\omega^{1\\cdot (N-1)}\\\\\n",
        "\\omega^{2\\cdot 0} & \\omega^{2\\cdot 1} & \\omega^{2\\cdot 2} & \\omega^{2\\cdot 3} &\\dots & \\omega^{2\\cdot (N-1)}\\\\\n",
        "\\omega^{3\\cdot 0} & \\omega^{3\\cdot 1} & \\omega^{3\\cdot 2} & \\omega^{3\\cdot 3} & \\dots & \\omega^{3\\cdot (N-1)}\\\\\n",
        "\\vdots & \\vdots & \\vdots & \\vdots & \\ddots & \\vdots \\\\\n",
        "\\omega^{(N-1)\\cdot 0} & \\omega^{(N-1)\\cdot 1} & \\omega^{(N-1)\\cdot 2} & \\omega^{(N-1)\\cdot 3} & \\dots & \\omega^{(N-1)\\cdot (N-1)}\n",
        "\\end{bmatrix}\n",
        "\\begin{bmatrix}\n",
        "x_0\\\\\n",
        "x_1\\\\\n",
        "x_2\\\\\n",
        "x_3\\\\\n",
        "\\vdots \\\\\n",
        "x_{N-1}\n",
        "\\end{bmatrix}\\\\[10pt]\n",
        "= \\frac{1}{\\sqrt{N}}\n",
        "\\begin{bmatrix}\n",
        "1 & 1 & 1 & 1 &\\dots & 1\\\\\n",
        "1 & \\omega & \\omega^2 & \\omega^3 & \\dots & \\omega^{N-1}\\\\\n",
        "1 & \\omega^{2} & \\omega^{4} & \\omega^{6} &\\dots & \\omega^{2(N-1)}\\\\\n",
        "1 & \\omega^{3} & \\omega^{6} & \\omega^{9} & \\dots & \\omega^{3(N-1)}\\\\\n",
        "\\vdots & \\vdots & \\vdots & \\vdots & \\ddots & \\vdots \\\\\n",
        "1 & \\omega^{N-1} & \\omega^{2(N-1)} & \\omega^{3(N-1)} & \\dots & \\omega^{(N-1)^2}\n",
        "\\end{bmatrix}\n",
        "\\begin{bmatrix}\n",
        "x_0\\\\\n",
        "x_1\\\\\n",
        "x_2\\\\\n",
        "x_3\\\\\n",
        "\\vdots \\\\\n",
        "x_{N-1}\n",
        "\\end{bmatrix}\n",
        "\\end{aligned}\n",
        "$$\n",
        "\n",
        "Esta matriz $U_{QFT}$ es una matriz unitaria, que puede usarse como una puerta.\n",
        "\n",
        "También puede escribirse como:\n",
        "\n",
        "$$\n",
        "U_{QFT} = \\frac{1}{\\sqrt{N}}\\sum_{j,k=0}^{N-1} \\omega_N^{jk}|k\\rangle\\langle j| = \\frac{1}{\\sqrt{N}}\\sum_{j,k=0}^{N-1} e^{\\frac{2\\pi i}{N}{jk}}|k\\rangle\\langle j|\n",
        "$$\n",
        "\n",
        "ya que $|k\\rangle\\langle j|$ es una matriz $N\\times N$ que tiene un 1 en la fila $k$, columna $j$, y 0 en el resto."
      ],
      "metadata": {
        "id": "3DWGh3QUvjqh"
      },
      "id": "3DWGh3QUvjqh"
    },
    {
      "cell_type": "markdown",
      "source": [
        "\n",
        "\n",
        "---\n",
        "\n",
        "**Ejemplo**\n",
        "\n",
        "Sea $n=3$ ($N=8$) y el estado $|x\\rangle = |101\\rangle$. La QFT de $|x\\rangle$ es:\n",
        "\n",
        "$$\n",
        "U_{QFT}|101\\rangle = \\frac{1}{\\sqrt{8}}\n",
        "\\begin{bmatrix}\n",
        "1 &     1    &     1       &      1      &     1       &     1       &     1       & 1       \\\\\n",
        "1 & \\omega   & \\omega^2    & \\omega^3    & \\omega^4    & \\omega^5    & \\omega^6    & \\omega^7\\\\\n",
        "1 & \\omega^2 & \\omega^4    & \\omega^6    & \\omega^8    & \\omega^{10} & \\omega^{12} & \\omega^{14}\\\\\n",
        "1 & \\omega^3 & \\omega^6    & \\omega^9    & \\omega^{12} & \\omega^{15} & \\omega^{18} & \\omega^{21}\\\\\n",
        "1 & \\omega^4 & \\omega^8    & \\omega^{12} & \\omega^{16} & \\omega^{20} & \\omega^{24} & \\omega^{28}\\\\\n",
        "1 & \\omega^5 & \\omega^{10} & \\omega^{15} & \\omega^{20} & \\omega^{25} & \\omega^{30} & \\omega^{35}\\\\\n",
        "1 & \\omega^6 & \\omega^{12} & \\omega^{18} & \\omega^{24} & \\omega^{30} & \\omega^{36} & \\omega^{42}\\\\\n",
        "1 & \\omega^7 & \\omega^{14} & \\omega^{21} & \\omega^{28} & \\omega^{35} & \\omega^{42} & \\omega^{49}\\\\\n",
        "\\end{bmatrix}\n",
        "\\begin{bmatrix}\n",
        "0\\\\\n",
        "0\\\\\n",
        "0\\\\\n",
        "0\\\\\n",
        "0\\\\\n",
        "1\\\\\n",
        "0\\\\\n",
        "0\n",
        "\\end{bmatrix} = \\frac{1}{\\sqrt{8}}\n",
        "\\begin{bmatrix}\n",
        "    1             \\\\\n",
        " \\omega^5    \\\\\n",
        " \\omega^{10} \\\\\n",
        " \\omega^{15} \\\\\n",
        " \\omega^{20} \\\\\n",
        " \\omega^{25} \\\\\n",
        " \\omega^{30} \\\\\n",
        " \\omega^{35}\\\\\n",
        "\\end{bmatrix}\n",
        "$$\n",
        "\n",
        "Y como $\\omega = e^\\frac{2\\pi i}{8} = e^{\\frac{\\pi}{4}i}$:\n",
        "\n",
        "$$\n",
        "U_{QFT}|101\\rangle =  \n",
        "\\frac{1}{\\sqrt{8}}\n",
        "\\begin{bmatrix}\n",
        "    1             \\\\\n",
        " e^{\\frac{5\\pi}{4}i}    \\\\\n",
        " e^{\\frac{10\\pi}{4}i} \\\\\n",
        " e^{\\frac{15\\pi}{4}i} \\\\\n",
        " e^{\\frac{20\\pi}{4}i} \\\\\n",
        " e^{\\frac{25\\pi}{4}i} \\\\\n",
        " e^{\\frac{30\\pi}{4}i} \\\\\n",
        " e^{\\frac{35\\pi}{4}i}\\\\\n",
        "\\end{bmatrix} =  \n",
        "\\frac{1}{\\sqrt{8}}\n",
        "\\begin{bmatrix}\n",
        "    1             \\\\\n",
        " -\\frac{1}{\\sqrt{2}}(1+i)    \\\\\n",
        " i \\\\\n",
        " \\frac{1}{\\sqrt{2}}(1-i) \\\\\n",
        " -1 \\\\\n",
        " \\frac{1}{\\sqrt{2}}(1+i) \\\\\n",
        " -i \\\\\n",
        " -\\frac{1}{\\sqrt{2}}(1-i)\\\\\n",
        "\\end{bmatrix}\n",
        "$$\n",
        "\n",
        "Este estado también se puede escribir como:\n",
        "\n",
        "$$\n",
        "U_{QFT}|101\\rangle =  \n",
        "\\frac{1}{\\sqrt{8}}\\left[\\left(|0\\rangle + e^{5\\pi i}|1\\rangle\\right) \\otimes\n",
        "\\left(|0\\rangle + e^{\\frac{5\\pi}{2} i}|1\\rangle\\right)\\otimes\n",
        "\\left(|0\\rangle + e^{\\frac{5\\pi}{4} i}|1\\rangle\\right) \\right]\n",
        "$$\n",
        "\n",
        "Es decir, la QFT pone a los cúbits en superposición y les aplica una rotación.\n",
        "\n",
        "---\n",
        "\n"
      ],
      "metadata": {
        "id": "Q_tnElDKv-_8"
      },
      "id": "Q_tnElDKv-_8"
    },
    {
      "cell_type": "markdown",
      "source": [
        "En general, la QFT transforma entre 2 bases: la base $\\{|0\\rangle, |1\\rangle\\}$ (o base computacional, también llamada base $Z$) a la base Fourier:\n",
        "\n",
        "$$\n",
        "|\\text{Estado en la base computacional}\\rangle \\quad \\xrightarrow[]{\\text{QFT}} \\quad |\\text{Estado en la base de Fourier}\\rangle\n",
        "$$\n",
        "\n",
        "En el caso de 1 cúbit, la QFT transforma $\\{|0\\rangle, |1\\rangle\\} \\rightarrow \\{|+\\rangle, |-\\rangle\\}$, es decir, de la base $Z$ a la base $X$\n",
        "\n",
        "En la siguiente imagen se muestra, en un estado de 4 cúbits, como cambia cada uno de ellos al ir avanzando desde el estado $|q_3q_2q_1q_0\\rangle=|0000\\rangle = |0\\rangle$ al $|q_3q_2q_1q_0\\rangle=|1111\\rangle = |15\\rangle$ (la esfera de la derecha corresponde al bit más significativo).\n",
        "\n",
        "<center><img src=\"https://drive.google.com/uc?export=view&id=1V9W9AsvxoWTniW_yJGO5Huz80HnRF9rv\" alt=\"Cúbits en base Z\" width=\"800\"  /></center>\n",
        "\n",
        "El bit menos significativo ($|q_0\\rangle$) cambia en cada incremento, el $|q_1\\rangle$ cada 2, el $|q_2\\rangle$ cada 4 y el $|q_3\\rangle$ cada 8.\n",
        "\n",
        "En la base de Fourier, esos números se corresponden a rotaciones alrededor del eje Z:\n",
        "\n",
        "<center><img src=\"https://drive.google.com/uc?export=view&id=1i7GIjvICJao7dbw7b8WOXwOZKnPVIpkY\" alt=\"Cúbits en base Fourier\" width=\"800\"  /></center>\n",
        "\n",
        "En el estado $|\\widetilde{0}\\rangle$ todos los cúbits están en el estado $|+\\rangle$. Por cada incremento, los cúbits rotan un ángulo diferente:\n",
        "\n",
        "$$\n",
        "|\\widetilde{q}_0\\rangle \\text{ rota un ángulo } \\frac{2\\pi}{2^n} = \\frac{\\pi}{8} \\\\\n",
        "|\\widetilde{q}_1\\rangle \\text{ rota un ángulo } \\frac{2\\pi}{2^{n-1}} = \\frac{\\pi}{4}\\\\\n",
        "|\\widetilde{q}_2\\rangle \\text{ rota un ángulo } \\frac{2\\pi}{2^{n-2}} = \\frac{\\pi}{2}\\\\\n",
        "|\\widetilde{q}_3\\rangle \\text{ rota un ángulo } \\frac{2\\pi}{2^{n-3}} = \\pi\n",
        "$$\n",
        "\n",
        "Así, en el ejemplo anterior de tres cúbits, para alcanzar el estado $|\\widetilde{5}\\rangle$, las rotaciones serían:\n",
        "\n",
        "$$\n",
        "|\\widetilde{q}_0\\rangle \\text{ rota un ángulo } 5\\times \\frac{2\\pi}{2^3} = \\frac{5\\pi}{4} \\\\\n",
        "|\\widetilde{q}_1\\rangle \\text{ rota un ángulo } 5\\times \\frac{2\\pi}{2^{3-1}} = \\frac{5\\pi}{2}\\\\\n",
        "|\\widetilde{q}_2\\rangle \\text{ rota un ángulo } 5\\times \\frac{2\\pi}{2^{2-2}} = 5\\pi\n",
        "$$\n",
        "\n",
        "En general, con $n$ cúbits, pasar del estado $|\\widetilde{0}\\rangle$ al $|\\widetilde{2^{n-1}}\\rangle$ en la base Fourier implica que el cúbit menos significativo da una vuelta completa en torno al eje z, el segundo, 2 vueltas, el tercero, 4, y así sucesivamente."
      ],
      "metadata": {
        "id": "cY5qWFOQm4H5"
      },
      "id": "cY5qWFOQm4H5"
    },
    {
      "cell_type": "markdown",
      "source": [
        "<details>\n",
        "<summary>Obtención de $U_{QFT}$ como puertas simples.</summary>\n",
        "\n",
        "Sea $|z\\rangle$ un estado simple $|z\\rangle=|z_{n-1}z_{n-2}\\ldots z_0\\rangle$ con $z_i\\in \\{0,1\\}$. Si aplicamos $U_{QFT}$:\n",
        "\n",
        "$$\n",
        "U_{QFT}|z\\rangle =  \\frac{1}{\\sqrt{N}}\\sum_{j,k=0}^{N-1} e^{\\frac{2\\pi i}{N}{jk}}|k\\rangle\\langle j|z\\rangle = \\frac{1}{\\sqrt{N}}\\sum_{k=0}^{N-1} e^{2\\pi i\\frac{zk}{N}}|k\\rangle\n",
        "$$\n",
        "\n",
        "ya que $\\langle j|z\\rangle = \\delta_{jz}$ (es 1 si $j=z$, 0 en otro caso).\n",
        "\n",
        "Como $|k\\rangle=|k_{n-1}k_{n-2}\\ldots k_0\\rangle$ con $k_i\\in \\{0,1\\}$, podemos escribir el entero $k$ como:\n",
        "\n",
        "$$\n",
        "k = 2^{n-1}k_{n-1}+2^{n-2}k_{n-2}+\\ldots+2^0k_0\n",
        "$$\n",
        "\n",
        "Dividiendo entre $N=2^n$:\n",
        "\n",
        "$$\n",
        "\\frac{k}{N} = \\frac{k}{2^n} = \\frac{k_{n-1}}{2}+\\frac{k_{n-2}}{2^2}+\\ldots+\\frac{k_0}{2^n}\n",
        "$$\n",
        "\n",
        "Por tanto, podemos escribir la exponencial de la transformada como:\n",
        "\n",
        "$$\n",
        "\\exp\\left(2\\pi i\\frac{zk}{N}\\right) = \\exp\\left[2\\pi iz\\left(\\frac{k_{n-1}}{2}+\\frac{k_{n-2}}{2^2}+\\ldots+\\frac{k_0}{2^n}\\right)\\right] =\n",
        "\\exp\\left[2\\pi iz\\left(\\frac{k_{n-1}}{2}\\right)\\right]\\cdot\n",
        "\\exp\\left[2\\pi iz\\left(\\frac{k_{n-2}}{2^2}\\right)\\right]\n",
        "\\cdot\\ldots\\cdot\\exp\\left[2\\pi iz\\left(\\frac{k_0}{2^n}\\right)\\right] = \\prod_{l=1}^{n} \\exp\\left[2\\pi iz\\left(\\frac{m_l}{2^{l}}\\right)\\right]\n",
        "$$\n",
        "\n",
        "donde $m_l=k_{n-l}$.\n",
        "\n",
        "Escribiendo entonces $|k\\rangle=|k_{n-1}k_{n-2}\\ldots k_0\\rangle = |m_1m_2\\ldots m_n\\rangle = |m_1\\rangle\\otimes |m_2\\rangle \\otimes\\ldots\\otimes |m_n\\rangle$  (con $m_i\\in \\{0,1\\}$):\n",
        "\n",
        "$$\n",
        "\\begin{aligned}\n",
        "U_{QFT}|z\\rangle & = \\frac{1}{\\sqrt{N}}\\sum_{k=0}^{N-1} \\prod_{l=1}^{n} \\exp\\left[2\\pi iz\\left(\\frac{m_l}{2^{l}}\\right)\\right] |k\\rangle \\\\\n",
        "& = \\frac{1}{\\sqrt{N}}\\sum_{m_i\\in \\{0,1\\}} \\prod_{l=1}^{n} e^{2\\pi izm_l/2^l} (|m_1\\rangle\\otimes |m_2\\rangle \\otimes\\ldots\\otimes |m_n\\rangle)\n",
        "\\end{aligned}\n",
        "$$\n",
        "\n",
        "Como se verifica que $a b(A\\otimes B) = (ab A) \\otimes B = A \\otimes (ab B) = aA \\otimes bB$, podemos escribir\n",
        "\n",
        "$$\n",
        "\\begin{aligned}\n",
        "U_{QFT}|z\\rangle & = \\frac{1}{\\sqrt{N}}\\sum_{m_i\\in \\{0,1\\}}  (e^{2\\pi izm_1/2^1}|m_1\\rangle\\otimes e^{2\\pi izm_2/2^2}|m_2\\rangle \\otimes\\ldots\\otimes e^{2\\pi izm_n/2^n}|m_n\\rangle) \\\\\n",
        "&= \\frac{1}{\\sqrt{N}}\\bigotimes_{l=1}^n \\sum_{m_l\\in\\{0,1\\}} e^{2\\pi izm_l/2^l}|m_l\\rangle\\\\\n",
        "& =\n",
        "\\frac{1}{\\sqrt{2^n}}\\bigotimes_{l=1}^n \\left[|0\\rangle + e^{2\\pi iz/2^l}|1\\rangle\\right]\n",
        "\\end{aligned}\n",
        "$$\n",
        "\n",
        "en esta última expresión, el factor del 0 corresponde a $m_l=0$ y el del 1 a $m_l=1$.\n",
        "\n",
        "Por lo que podemos escribir la transformada como:\n",
        "\n",
        "$$\n",
        "U_{QFT}|z\\rangle  =\n",
        "\\frac{1}{\\sqrt{2^n}}\\left[\n",
        "\\left(\\vert0\\rangle + \\exp\\left({\\frac{2\\pi i}{2}z}\\right) \\vert1\\rangle\\right)\n",
        "\\otimes\n",
        "\\left(\\vert0\\rangle + \\exp\\left({\\frac{2\\pi i}{2^2}z}\\right) \\vert1\\rangle\\right)\n",
        "\\otimes  \n",
        "\\cdots\\\\\n",
        "\\otimes\n",
        "\\left(\\vert0\\rangle + \\exp\\left({\\frac{2\\pi i}{2^{n-1}}z}\\right) \\vert1\\rangle\\right)\n",
        "\\otimes\n",
        "\\left(\\vert0\\rangle + \\exp\\left({\\frac{2\\pi i}{2^n}z}\\right) \\vert1\\rangle\\right)\n",
        "\\right]\n",
        "$$\n",
        "\n",
        "<!--\n",
        "$$\n",
        "\\begin{aligned}\n",
        "U_{QFT}|z\\rangle & = \\frac{1}{\\sqrt{N}}\\sum_{k=0}^{N-1} \\prod_{l=1}^{n} \\exp\\left[2\\pi iz\\left(\\frac{m_l}{2^{l}}\\right)\\right] |k\\rangle  \\\\\n",
        "& = \\frac{1}{\\sqrt{N}}\\left(e^{2\\pi izm_1/2^1}|m_1\\rangle \\otimes e^{2\\pi izm_2/2^2}|m_2\\rangle \\otimes \\ldots \\otimes e^{2\\pi izm_n/2^n}|m_n\\rangle\\right) \\\\\n",
        "& = \\frac{1}{\\sqrt{N}}\\bigotimes_{l=1}^n \\sum_{m_l\\in\\{0,1\\}} e^{2\\pi izm_l/2^l}|m_l\\rangle \\text{ (ya que }m_i\\in \\{0,1\\} \\forall i\\text{)}\\\\\n",
        "& =\n",
        "\\frac{1}{\\sqrt{2^n}}\\bigotimes_{l=1}^n \\left[|0\\rangle + e^{2\\pi iz/2^l}|1\\rangle\\right] \\text{ (el factor del 0 corresponde a }m_l=0\\text{ y el del 1 a }m_l=1\\\\\n",
        "& =\\frac{1}{\\sqrt{2^n}}\\left[\n",
        "\\left(\\vert0\\rangle + \\exp\\left({\\frac{2\\pi i}{2}z}\\right) \\vert1\\rangle\\right)\n",
        "\\otimes\n",
        "\\left(\\vert0\\rangle + \\exp\\left({\\frac{2\\pi i}{2^2}z}\\right) \\vert1\\rangle\\right)\n",
        "\\otimes  \n",
        "\\ldots\n",
        "\\otimes\n",
        "\\left(\\vert0\\rangle + \\exp\\left({\\frac{2\\pi i}{2^{n-1}}z}\\right) \\vert1\\rangle\\right)\n",
        "\\otimes\n",
        "\\left(\\vert0\\rangle + \\exp\\left({\\frac{2\\pi i}{2^n}z}\\right) \\vert1\\rangle\\right)\n",
        "\\right]\n",
        "\\end{aligned}\n",
        "$$\n",
        "-->\n",
        "\n",
        "Estas operaciones podemos implementarlas mediante puertas _phase_ del tipo:\n",
        "\n",
        "$$\\text{UROT}_k = \\left[\\begin{matrix}\n",
        "1&0\\\\\n",
        "0&\\exp\\left(\\frac{2\\pi i}{2^k}\\right)\\\\\n",
        "\\end{matrix}\\right]$$\n",
        "\n",
        "y la versión controlada de esta puerta:\n",
        "\n",
        "$$\\text{C-UROT}_k = \\left[\\begin{matrix}\n",
        "I&0\\\\\n",
        "0&UROT_k\\\\\n",
        "\\end{matrix}\\right]$$\n",
        "</details>"
      ],
      "metadata": {
        "id": "XFDx3msZvIdb"
      },
      "id": "XFDx3msZvIdb"
    },
    {
      "cell_type": "markdown",
      "source": [
        "### Circuito que implementa la QFT\n",
        "\n",
        "Un circuito que implementa una QFT de n cúbits es:\n",
        "\n",
        "<center><img src=\"https://drive.google.com/uc?export=view&id=12JP1GYo0aYFKHsOhg3PQDW2VqFBCtsdS\" alt=\"QFT\" width=\"1000\"  /></center>\n",
        "\n",
        "Siendo las puertas $\\text{UROT}_k$ de tipo _phase_:\n",
        "\n",
        "$$\\text{UROT}_k = \\left[\\begin{matrix}\n",
        "1&0\\\\\n",
        "0&\\exp\\left(\\frac{2\\pi i}{2^k}\\right)\\\\\n",
        "\\end{matrix}\\right]$$\n",
        "\n",
        "con $2\\le k \\le n$."
      ],
      "metadata": {
        "id": "U3jUPIogsYGy"
      },
      "id": "U3jUPIogsYGy"
    },
    {
      "cell_type": "markdown",
      "source": [
        "<details>\n",
        "<summary>Funcionamiento del circuito</summary>\n",
        "El circuito empieza con el estado inicial $|x\\rangle=|x_1x_{2}\\ldots x_n\\rangle$.\n",
        "<ol>\n",
        "<li>Después de la primera Hadamard sobre el cúbit 1, el estado queda:\n",
        "\n",
        "$$\n",
        "H_1\\vert x_1x_2\\ldots x_n\\rangle =\n",
        "\\frac{1}{\\sqrt{2}}\n",
        "\\left[\\vert0\\rangle \\pm \\vert1\\rangle\\right]\n",
        "\\otimes\n",
        "\\vert x_2x_3\\ldots x_n\\rangle =\n",
        "\\frac{1}{\\sqrt{2}}\n",
        "\\left[\\vert0\\rangle + \\exp\\left(\\frac{2\\pi i}{2}x_1\\right)\\vert1\\rangle\\right]\n",
        "\\otimes\n",
        "\\vert x_2x_3\\ldots x_n\\rangle\n",
        "$$\n",
        "\n",
        "ya que si $x_1=0 \\Rightarrow \\exp\\left({\\frac{2\\pi i}{2}x_1}\\right) = 1$ y si $x_1=1 \\Rightarrow \\exp\\left({\\frac{2\\pi i}{2}x_1}\\right) = e^{\\pi i} = -1$\n",
        "    <p></p>\n",
        "    \n",
        "<li> Después de aplicar la puerta $\\text{UROT}_2$ sobre el cúbit 1 controlado por el cúbit 2, tenemos:\n",
        "\n",
        "$$\n",
        "\\begin{cases}\n",
        "\\text{si } x_2 = 0 \\rightarrow \\frac{1}{\\sqrt{2}}\n",
        "\\left[\\vert0\\rangle + \\exp\\left(\\frac{2\\pi i}{2}x_1\\right)\\vert1\\rangle\\right]\n",
        "\\otimes\n",
        "\\vert x_2x_3\\ldots x_n\\rangle\\\\\n",
        "\\text{si } x_2 = 1 \\rightarrow \\frac{1}{\\sqrt{2}}\n",
        "\\left[\\vert0\\rangle + \\exp\\left(\\frac{2\\pi i}{2^2}\\right)\\exp\\left(\\frac{2\\pi i}{2}x_1\\right)\\vert1\\rangle\\right]\n",
        "\\otimes\n",
        "\\vert x_2x_3\\ldots x_n\\rangle\\\\\n",
        "\\end{cases}\n",
        "$$\n",
        "\n",
        "que se puede escribir como:\n",
        "$$\n",
        "\\frac{1}{\\sqrt{2}}\n",
        "\\left[\\vert0\\rangle + \\exp\\left(\\frac{2\\pi i}{2^2}x_2 + \\frac{2\\pi i}{2}x_1\\right)\\vert1\\rangle\\right]\n",
        "\\otimes\n",
        "\\vert x_2x_3\\ldots x_n\\rangle\n",
        "$$\n",
        "    <p></p>\n",
        "\n",
        "<li> Después de la aplicación de la última puerta $\\text{UROT}_n$ (controlada por el cúbit n) sobre el cúbit 1, el estado queda:\n",
        "\n",
        "$$\n",
        "\\frac{1}{\\sqrt{2}}\n",
        "\\left[\\vert0\\rangle +\n",
        "\\exp\\left(\n",
        "\\frac{2\\pi i}{2^n}x_n +\n",
        "\\frac{2\\pi i}{2^{n-1}}x_{n-1} +\n",
        "\\ldots +\n",
        "\\frac{2\\pi i}{2^2}x_2 +\n",
        "\\frac{2\\pi i}{2}x_1\n",
        "\\right)\n",
        "\\vert1\\rangle\\right]\n",
        "\\otimes\n",
        "\\vert x_2x_3\\ldots x_n\\rangle\n",
        "$$\n",
        "\n",
        "Y como:\n",
        "\n",
        "$$\n",
        "x = 2^{n-1}x_1 + 2^{n-2}x_2 + \\ldots + 2^1x_{n-1} + 2^0x_n \\Rightarrow \\frac{x}{2^n} =\n",
        "\\frac{x_1}{2} + \\frac{x_1}{2^2}  + \\ldots + \\frac{x_{n-1}}{2^{n-1}} + \\frac{x_{n}}{2^{n}}\n",
        "$$\n",
        "\n",
        "podemos escribir el estado anterior como:\n",
        "\n",
        "$$\n",
        "\\frac{1}{\\sqrt{2}}\n",
        "\\left[\\vert0\\rangle +\n",
        "\\exp\\left(\n",
        "\\frac{2\\pi i}{2^n}x\n",
        "\\right)\n",
        "\\vert1\\rangle\\right]\n",
        "\\otimes\n",
        "\\vert x_2x_3\\ldots x_n\\rangle\n",
        "$$\n",
        "<p></p>\n",
        "    \n",
        "<li> El estado después de aplicar una secuencia similar de puertas para los cúbits $2\\ldots n$ será:  \n",
        "\n",
        "$$\n",
        "\\frac{1}{\\sqrt{2}}\n",
        "\\left[\\vert0\\rangle +\n",
        "\\exp\\left(\n",
        "\\frac{2\\pi i}{2^n}x\n",
        "\\right)\n",
        "\\vert1\\rangle\\right]\n",
        "\\otimes\n",
        "\\frac{1}{\\sqrt{2}}\n",
        "\\left[\\vert0\\rangle +\n",
        "\\exp\\left(\n",
        "\\frac{2\\pi i}{2^{n-1}}x\n",
        "\\right)\n",
        "\\vert1\\rangle\\right]\n",
        "\\otimes\n",
        "\\cdots\n",
        "\\otimes\n",
        "\\frac{1}{\\sqrt{2}}\n",
        "\\left[\\vert0\\rangle +\n",
        "\\exp\\left(\n",
        "\\frac{2\\pi i}{2^{2}}x\n",
        "\\right)\n",
        "\\vert1\\rangle\\right]\n",
        "\\otimes\n",
        "\\frac{1}{\\sqrt{2}}\n",
        "\\left[\\vert0\\rangle +\n",
        "\\exp\\left(\n",
        "\\frac{2\\pi i}{2^{1}}x\n",
        "\\right)\n",
        "\\vert1\\rangle\\right]\n",
        "$$\n",
        "\n",
        "que es la expresión de la QFT que vimos antes, pero con los cúbits en orden inverso, por lo que es necesario una operación de inversión para obtener el resultado correcto.\n",
        "</ol>\n",
        "\n",
        "</details>"
      ],
      "metadata": {
        "id": "IfQtK58IuPtw"
      },
      "id": "IfQtK58IuPtw"
    },
    {
      "cell_type": "markdown",
      "source": [
        "\n",
        "\n",
        "---\n",
        "\n",
        "\n",
        "**Ejemplo**: Ejemplo con tres bits. Obtener la QFT de $|101\\rangle$\n",
        "\n",
        "Las puertas que necesitamos son la $\\text{C-UROT}_2$ y la $\\text{C-UROT}_3$, siendo:\n",
        "\n",
        "$$\n",
        "\\text{UROT}_2 = \\left[\\begin{matrix}\n",
        "1&0\\\\\n",
        "0&\\exp\\left(\\frac{2\\pi i}{2^2}\\right)\\\\\n",
        "\\end{matrix}\\right] =\n",
        "\\left[\\begin{matrix}\n",
        "1&0\\\\\n",
        "0&\\exp\\left(\\frac{\\pi i}{2}\\right)\\\\\n",
        "\\end{matrix}\\right] = R_{\\pi/2}\n",
        "$$\n",
        "\n",
        "$$\n",
        "\\text{UROT}_3 = \\left[\\begin{matrix}\n",
        "1&0\\\\\n",
        "0&\\exp\\left(\\frac{2\\pi i}{2^3}\\right)\\\\\n",
        "\\end{matrix}\\right] =\n",
        "\\left[\\begin{matrix}\n",
        "1&0\\\\\n",
        "0&\\exp\\left(\\frac{\\pi i}{4}\\right)\\\\\n",
        "\\end{matrix}\\right] = R_{\\pi/4}\n",
        "$$\n",
        "\n",
        "Por lo tanto, necesitamos puertas _phase-shift_ controladas.\n",
        "\n",
        "\n",
        "---\n",
        "\n"
      ],
      "metadata": {
        "id": "UmX3RGcNuuIq"
      },
      "id": "UmX3RGcNuuIq"
    },
    {
      "cell_type": "code",
      "source": [
        "n = 3 # Tres cúbits\n",
        "v = 5 # valor a calcular\n",
        "\n",
        "x = QuantumRegister(n, name='|x\\\\rangle')\n",
        "qft = QuantumCircuit(x)\n",
        "qft.initialize(Statevector.from_int(v, dims=2**n))\n",
        "\n",
        "qft.barrier()\n",
        "\n",
        "# Recordemos que en Qiskit los cúbits están en orden inverso al de la imagen anterior\n",
        "# Aplicamos H sobre el cúbit más significativo\n",
        "qft.h(2)\n",
        "\n",
        "# Aplicamos la C-UROT2 que es una puerta phase de pi/2 controlada por q1\n",
        "qft.cp(np.pi/2, 1, 2)\n",
        "\n",
        "# Aplicamos la C-UROT3 que es una puerta phase de pi/4 controlada por q0\n",
        "qft.cp(np.pi/4, 0, 2)\n",
        "\n",
        "# Repetimos el proceso para q1\n",
        "qft.h(1)\n",
        "qft.cp(np.pi/2, 0, 1)\n",
        "\n",
        "# Por último, para q0\n",
        "qft.h(0)\n",
        "\n",
        "# Para obtener el resultado correcto tenemos que invertir la salida\n",
        "qft.swap(0,2)\n",
        "\n",
        "display(qft.draw('mpl'))\n",
        "\n",
        "# Mostramos el vector de estado de salida\n",
        "obten_estado(qft, 'QFT|101\\\\rangle =')\n"
      ],
      "metadata": {
        "id": "micwMiPeu-h3",
        "colab": {
          "base_uri": "https://localhost:8080/",
          "height": 278
        },
        "outputId": "e863876b-5fd1-4487-b660-81b66fc0a4b7"
      },
      "id": "micwMiPeu-h3",
      "execution_count": 30,
      "outputs": [
        {
          "output_type": "display_data",
          "data": {
            "text/plain": [
              "<Figure size 1231.46x284.278 with 1 Axes>"
            ],
            "image/png": "[encoded data removed]"
          },
          "metadata": {}
        },
        {
          "output_type": "display_data",
          "data": {
            "text/plain": [
              "<IPython.core.display.Latex object>"
            ],
            "text/latex": "$$QFT|101\\rangle =\\frac{\\sqrt{2}}{4} |000\\rangle+(- \\frac{1}{4} - \\frac{i}{4}) |001\\rangle+\\frac{\\sqrt{2} i}{4} |010\\rangle+(\\frac{1}{4} - \\frac{i}{4}) |011\\rangle- \\frac{\\sqrt{2}}{4} |100\\rangle+(\\frac{1}{4} + \\frac{i}{4}) |101\\rangle- \\frac{\\sqrt{2} i}{4} |110\\rangle+(- \\frac{1}{4} + \\frac{i}{4}) |111\\rangle$$"
          },
          "metadata": {}
        }
      ]
    },
    {
      "cell_type": "markdown",
      "source": [
        "La [librería de circuitos de Qiskit](https://docs.quantum.ibm.com/api/qiskit/circuit_library) proporciona una implementación de la QFT:"
      ],
      "metadata": {
        "id": "4VcTa8ovxhp5"
      },
      "id": "4VcTa8ovxhp5"
    },
    {
      "cell_type": "code",
      "source": [
        "from qiskit.circuit.library import QFT\n",
        "\n",
        "n = 3 # Tres cúbits\n",
        "v = 5 # valor a calcular\n",
        "\n",
        "x = QuantumRegister(3, name='|x\\\\rangle')\n",
        "qft_qiskit = QuantumCircuit(x)\n",
        "qft_qiskit.initialize(Statevector.from_int(v, dims=2**n))\n",
        "\n",
        "qft_qiskit.barrier()\n",
        "\n",
        "qft_qiskit.compose(QFT(n),inplace=True)\n",
        "\n",
        "# Muesta el circuito\n",
        "display(qft_qiskit.draw('mpl'))\n",
        "display(qft_qiskit.decompose().draw('mpl'))\n",
        "\n",
        "obten_estado(qft_qiskit, 'QFT|101\\\\rangle =')"
      ],
      "metadata": {
        "id": "6oJQwzHxw6RF",
        "colab": {
          "base_uri": "https://localhost:8080/",
          "height": 573
        },
        "outputId": "00491089-ad34-41a4-b221-77e5f49003f4"
      },
      "id": "6oJQwzHxw6RF",
      "execution_count": 31,
      "outputs": [
        {
          "output_type": "stream",
          "name": "stderr",
          "text": [
            "/tmp/ipython-input-31-1434159539.py:12: DeprecationWarning: The class ``qiskit.circuit.library.basis_change.qft.QFT`` is deprecated as of Qiskit 2.1. It will be removed in Qiskit 3.0. ('Use qiskit.circuit.library.QFTGate or qiskit.synthesis.qft.synth_qft_full instead, for access to all previous arguments.',)\n",
            "  qft_qiskit.compose(QFT(n),inplace=True)\n"
          ]
        },
        {
          "output_type": "display_data",
          "data": {
            "text/plain": [
              "<Figure size 478.959x284.278 with 1 Axes>"
            ],
            "image/png": "[encoded data removed]"
          },
          "metadata": {}
        },
        {
          "output_type": "display_data",
          "data": {
            "text/plain": [
              "<Figure size 1398.68x284.278 with 1 Axes>"
            ],
            "image/png": "[encoded data removed]"
          },
          "metadata": {}
        },
        {
          "output_type": "display_data",
          "data": {
            "text/plain": [
              "<IPython.core.display.Latex object>"
            ],
            "text/latex": "$$QFT|101\\rangle =\\frac{\\sqrt{2}}{4} |000\\rangle+(- \\frac{1}{4} - \\frac{i}{4}) |001\\rangle+\\frac{\\sqrt{2} i}{4} |010\\rangle+(\\frac{1}{4} - \\frac{i}{4}) |011\\rangle- \\frac{\\sqrt{2}}{4} |100\\rangle+(\\frac{1}{4} + \\frac{i}{4}) |101\\rangle- \\frac{\\sqrt{2} i}{4} |110\\rangle+(- \\frac{1}{4} + \\frac{i}{4}) |111\\rangle$$"
          },
          "metadata": {}
        }
      ]
    },
    {
      "cell_type": "markdown",
      "source": [
        "La QFT inversa es igual pero invirtiendo la aplicación de las puertas:"
      ],
      "metadata": {
        "id": "p7q1U75NzDKN"
      },
      "id": "p7q1U75NzDKN"
    },
    {
      "cell_type": "code",
      "source": [
        "n = 3 # Tres cúbits\n",
        "v = 5 # valor a calcular\n",
        "\n",
        "x = QuantumRegister(3, name='|x\\\\rangle')\n",
        "qft_qiskit = QuantumCircuit(x)\n",
        "qft_qiskit.initialize(Statevector.from_int(v, dims=2**n))\n",
        "\n",
        "qft_qiskit.barrier()\n",
        "\n",
        "# QFT directa\n",
        "qft_qiskit.compose(QFT(n),inplace=True)\n",
        "qft_qiskit.barrier()\n",
        "\n",
        "# QFT inversa\n",
        "qft_qiskit.compose(QFT(n).inverse(),inplace=True)\n",
        "\n",
        "\n",
        "# Muesta el circuito\n",
        "display(qft_qiskit.decompose().draw('mpl'))\n",
        "\n",
        "obten_estado(qft_qiskit, 'QFT^{-1}(QFT|101\\\\rangle) =')"
      ],
      "metadata": {
        "id": "-L5q_74N0q3q",
        "colab": {
          "base_uri": "https://localhost:8080/",
          "height": 530
        },
        "outputId": "6e7cf299-9d9f-407b-853d-1ae5a5adf7b6"
      },
      "id": "-L5q_74N0q3q",
      "execution_count": 32,
      "outputs": [
        {
          "output_type": "stream",
          "name": "stderr",
          "text": [
            "/tmp/ipython-input-32-2455615914.py:11: DeprecationWarning: The class ``qiskit.circuit.library.basis_change.qft.QFT`` is deprecated as of Qiskit 2.1. It will be removed in Qiskit 3.0. ('Use qiskit.circuit.library.QFTGate or qiskit.synthesis.qft.synth_qft_full instead, for access to all previous arguments.',)\n",
            "  qft_qiskit.compose(QFT(n),inplace=True)\n",
            "/tmp/ipython-input-32-2455615914.py:15: DeprecationWarning: The class ``qiskit.circuit.library.basis_change.qft.QFT`` is deprecated as of Qiskit 2.1. It will be removed in Qiskit 3.0. ('Use qiskit.circuit.library.QFTGate or qiskit.synthesis.qft.synth_qft_full instead, for access to all previous arguments.',)\n",
            "  qft_qiskit.compose(QFT(n).inverse(),inplace=True)\n"
          ]
        },
        {
          "output_type": "display_data",
          "data": {
            "text/plain": [
              "<Figure size 2234.79x618.722 with 1 Axes>"
            ],
            "image/png": "[encoded data removed]"
          },
          "metadata": {}
        },
        {
          "output_type": "display_data",
          "data": {
            "text/plain": [
              "<IPython.core.display.Latex object>"
            ],
            "text/latex": "$$QFT^{-1}(QFT|101\\rangle) = |101\\rangle$$"
          },
          "metadata": {}
        }
      ]
    },
    {
      "cell_type": "markdown",
      "source": [
        "\n",
        "\n",
        "---\n",
        "\n",
        "\n",
        "\n",
        "---\n",
        "\n",
        "\n",
        "\n",
        "---\n",
        "\n"
      ],
      "metadata": {
        "id": "RuTgNwVDz5sb"
      },
      "id": "RuTgNwVDz5sb"
    },
    {
      "cell_type": "markdown",
      "source": [
        "# **Quantum phase estimation (QPE)** <a name=\"qpe\"></a>\n",
        "\n",
        "El algoritmo QPE es uno de los más importantes en QC, y es central en algoritmos más complejos.\n",
        "\n",
        "Dada una matriz unitaria $U$ y uno de sus autovectores (o autoestados) $|\\psi\\rangle$, QPE determina el autovalor $e^{\\boldsymbol{2\\pi i}\\theta}$ asociado.\n",
        "\n",
        "$$\n",
        "U|\\psi\\rangle = e^{\\boldsymbol{2\\pi i}\\theta}|\\psi\\rangle\n",
        "$$\n",
        "Al ser $U$ unitaria, todos sus autovalores son números complejos de norma 1, por lo que se pueden escribir como $e^{\\boldsymbol{2\\pi i}\\theta}$.\n",
        "<details>\n",
        "    <summary>Pulsa aquí para la demostración</summary>\n",
        "    \n",
        "Si $U$ es unitaria, verifica $U^\\dagger U = UU^\\dagger = I$. Sea $|v\\rangle$ un autovector de $U$ y $\\lambda\\in \\mathbb{C}$ el autovalor asociado. Tenemos:\n",
        "\n",
        "$$\n",
        "U|v\\rangle = \\lambda|v\\rangle \\Rightarrow \\langle v|v\\rangle = \\langle v|U^\\dagger U|v\\rangle = \\langle v|\\lambda^*\\lambda|v\\rangle \\Rightarrow \\langle v|v\\rangle = |\\lambda|^2 \\langle v|v\\rangle\n",
        "$$\n",
        "    \n",
        "Asumiendo $\\lambda \\ne 0$, para que la igualdad se cumpla es necesario que $|\\lambda|^2 = 1 \\Rightarrow \\lambda = e^{i\\phi}$ con $\\phi\\in\\mathbb{R}$.\n",
        "</details>"
      ],
      "metadata": {
        "id": "bD5dl97bz8Ns"
      },
      "id": "bD5dl97bz8Ns"
    },
    {
      "cell_type": "markdown",
      "source": [
        "\n",
        "\n",
        "---\n",
        "\n",
        "**Ejemplo**: Calcular el autovalor asociado al autovector |1⟩ de la puerta T\n",
        "\n",
        "Recordemos que T aplica una rotación de $\\frac{\\pi}{4}$:\n",
        "\n",
        "$$\n",
        "T =\n",
        "\\begin{bmatrix}\n",
        "1 & 0\\\\\n",
        "0 & e^\\frac{i\\pi}{4}\\\\\n",
        "\\end{bmatrix}\n",
        "$$\n",
        "\n",
        "Por tanto:\n",
        "$$ T|1\\rangle =\n",
        "\\begin{bmatrix}\n",
        "1 & 0\\\\\n",
        "0 & e^\\frac{i\\pi}{4}\\\\\n",
        "\\end{bmatrix}\n",
        "\\begin{bmatrix}\n",
        "0\\\\\n",
        "1\\\\\n",
        "\\end{bmatrix}\n",
        "= e^\\frac{i\\pi}{4}|1\\rangle = e^{2i\\pi\\theta}|1\\rangle$$\n",
        "\n",
        "con $$\\theta = \\frac{1}{8}$$\n",
        "\n",
        "\n",
        "---\n",
        "\n"
      ],
      "metadata": {
        "id": "xL0nhW9d0hW3"
      },
      "id": "xL0nhW9d0hW3"
    },
    {
      "cell_type": "markdown",
      "source": [
        "## Circuito para la QPE\n",
        "\n",
        "\n",
        "El circuito para QPE es el siguiente:\n",
        "\n",
        "<center><img src=\"https://drive.google.com/uc?export=view&id=15SL16rv_A2IY5twrRw9nxBb5UcDHxsay\" alt=\"Circuito QPE\" width=\"1000\"  /></center>\n",
        "\n",
        "\n",
        "El registro superior contienen $t$ cúbits ancilla y el inferior esta en el autoestado $|\\psi\\rangle$ de $U$. A la salida, en los bits de ancilla se obtiene el estado $|2^t\\theta\\rangle$.\n",
        "\n",
        "La idea del algoritmo es usar _phase-kickback_ para trasladar rotaciones proporcionales a la fase $e^{\\boldsymbol{2\\pi i}\\theta}$ en la base Fourier, y luego aplicar una QFT inversa para pasar a la base computacional. El número $t$ de bits de ancilla va determinar la precisión del resultado.\n",
        "\n",
        "Se puede demostrar que si $|\\psi\\rangle$ es un estado arbitrario, si usamos $|\\psi\\rangle$ como entrada en QPE, cualquier medida de los bits de ancilla, nos devuelve un autovalor de $U$."
      ],
      "metadata": {
        "id": "s81wICBF0RED"
      },
      "id": "s81wICBF0RED"
    },
    {
      "cell_type": "markdown",
      "source": [
        "<details>\n",
        "<summary>Explicación del circuito</summary>\n",
        "Pasos:\n",
        "\n",
        "i. Estado inicial: $$ |\\psi_0\\rangle = \\lvert 0 \\rangle^{\\otimes t} \\lvert \\psi \\rangle$$\n",
        "ii. Después de las puertas $H$ aplicadas a los cúbits de ancilla\n",
        "\n",
        "$$\n",
        "\\begin{aligned}\n",
        "|\\psi_1\\rangle &= \\frac{1}{\\sqrt{2^t}}\\left(|0\\rangle +|1\\rangle \\right)^{\\otimes t} \\lvert \\psi \\rangle\\\\[5pt]\n",
        "&=\\frac{1}{\\sqrt{2^t}}\\left[\\left(|0\\rangle +|1\\rangle\\right)\\otimes\\left(|0\\rangle +|1\\rangle\\right)\\otimes\\cdots\\otimes\\left(|0\\rangle +|1\\rangle\\right)\\right]\\otimes|\\psi\\rangle\n",
        "\\end{aligned}\n",
        "$$\n",
        "\n",
        "iii. Aplicamos la primera puerta $U^{2^{t-1}}$ controlada. Primero, podemos ver que, como $U|\\psi\\rangle = e^{\\boldsymbol{2\\pi i}\\theta}|\\psi\\rangle$ vamos a tener:\n",
        "\n",
        "$$\n",
        "U^{2^{j}}|\\psi\\rangle = U^{2^{j}-1}U|\\psi\\rangle = U^{2^{j}-1}e^{\\boldsymbol{2\\pi i}\\theta}|\\psi\\rangle =\\cdots =e^{\\boldsymbol{2\\pi} i2^{j}\\theta}|\\psi \\rangle\n",
        "$$\n",
        "\n",
        "Por tanto, el estado después de aplicar la $U^{2^{t-1}}$ controlada el phase-kickback traslada la fase al primer cúbit:\n",
        "\n",
        "$$\n",
        "\\begin{aligned}\n",
        "|\\psi_2\\rangle &=\n",
        "\\frac{1}{\\sqrt{2^t}}\\left[\\left(|0\\rangle +e^{\\boldsymbol{2\\pi} i2^{t-1}\\theta}|1\\rangle\\right)\\otimes\\left(|0\\rangle +|1\\rangle\\right)\\otimes\\cdots\\otimes\\left(|0\\rangle +|1\\rangle\\right)\\right]\\otimes|\\psi\\rangle\n",
        "\\end{aligned}\n",
        "$$\n",
        "\n",
        "iv. Haciendo lo mismo con el resto de $U$ controladas, tendremos que el estado antes de la QFT inversa será:\n",
        "\n",
        "$$\n",
        "|\\psi_3\\rangle =\n",
        "\\frac{1}{\\sqrt{2^t}}\\left[\\left(|0\\rangle +e^{\\boldsymbol{2\\pi} i2^{t-1}\\theta}|1\\rangle\\right)\\otimes\\left(|0\\rangle +e^{\\boldsymbol{2\\pi} i2^{t-2}\\theta}|1\\rangle\\right)\\otimes\\cdots\\\\\n",
        "\\otimes\n",
        "\\left(|0\\rangle +e^{\\boldsymbol{2\\pi} i2^{1}\\theta}|1\\rangle\\right)\\otimes\n",
        "\\left(|0\\rangle +e^{\\boldsymbol{2\\pi} i2^{0}\\theta}|1\\rangle\\right)\\right]|\\psi\\rangle\n",
        "$$\n",
        "\n",
        "v. Aplicación de la QFT inversa. Vimos que:\n",
        "\n",
        "$$\n",
        "U_{QFT}|z\\rangle\n",
        "=\\frac{1}{\\sqrt{2^n}}\\left[\n",
        "\\left(\\vert0\\rangle + e^{{\\frac{2\\pi i}{2}z}} \\vert1\\rangle\\right)\n",
        "\\otimes\n",
        "\\left(\\vert0\\rangle + e^{\\frac{2\\pi i}{2^2}z} \\vert1\\rangle\\right)\n",
        "\\otimes  \n",
        "\\cdots\\\\\n",
        "\\otimes\n",
        "\\left(\\vert0\\rangle + e^{\\frac{2\\pi i}{2^{n-1}}z} \\vert1\\rangle\\right)\n",
        "\\otimes\n",
        "\\left(\\vert0\\rangle + e^{\\frac{2\\pi i}{2^n}z} \\vert1\\rangle\\right)\n",
        "\\right]\n",
        "$$\n",
        "\n",
        "Reemplazando $n$ por $t$ y haciendo $z = 2^t\\theta$ en esta expresión, es fácil ver que el estado de los bits de ancilla es:\n",
        "\n",
        "$$\n",
        "|\\psi_3^\\text{ancilla}\\rangle = U_{QFT}|2^t\\theta\\rangle\n",
        "$$\n",
        "\n",
        "Por lo que el estado de los cúbits de ancilla después de aplicar la QFT inversa será $|\\tilde{\\theta}\\rangle_{t}$, siendo $\\tilde{\\theta} =2^t\\theta\\Rightarrow\\theta=\\tilde{\\theta}/{2^t}$.\n",
        "\n",
        "Al medir los bits de ancilla obtenemos el valor  $2^t\\theta$.\n",
        "</details>"
      ],
      "metadata": {
        "id": "yWNUDRgD2UjZ"
      },
      "id": "yWNUDRgD2UjZ"
    },
    {
      "cell_type": "markdown",
      "source": [
        "\n",
        "---\n",
        "\n",
        "**Ejemplo:** Circuito para calcular el autovalor asociado al autovector $|1\\rangle$ de la puerta T usando $t=3$ ancillas.\n",
        "\n",
        "\n",
        "La puerta T es una rotación $\\pi/4$. Aplicamos las rotaciones $\\pi/4$ controladas por las ancillas, recordando que los cúbits en Qiskit están ordenados en orden inverso, por lo que la $U^{2^2}$ estará controlada por $q_2$ y la $U^{2^0}$ por $q_0$. Además, por simplicidad aplicamos las rotaciones al revés.\n"
      ],
      "metadata": {
        "id": "vKa724c_A5ok"
      },
      "id": "vKa724c_A5ok"
    },
    {
      "cell_type": "code",
      "source": [
        "from qiskit.circuit.library import QFT\n",
        "\n",
        "t = 3\n",
        "\n",
        "ancillas = QuantumRegister(t, name='|ancillas\\\\rangle')\n",
        "autoestado = QuantumRegister(1, name='|\\psi\\\\rangle')\n",
        "medidas = ClassicalRegister(t, name='medidas')\n",
        "\n",
        "# 4 cúbits y 3 bits clásicos para medir las ancillas\n",
        "qpe = QuantumCircuit(ancillas, autoestado, medidas)\n",
        "\n",
        "# Ponemos |𝜓⟩ = 1\n",
        "qpe.x(autoestado)\n",
        "\n",
        "qpe.barrier()\n",
        "\n",
        "# Ancillas en superposición\n",
        "qpe.h(ancillas)\n",
        "\n",
        "# Aplicamos las rotaciones 𝜋/4 controladas a las ancillas\n",
        "repeticiones = 1\n",
        "for counting_qubit in range(t):\n",
        "    for i in range(repeticiones):\n",
        "        qpe.cp(np.pi/4, counting_qubit, t); # Puerta C-T\n",
        "    repeticiones *= 2\n",
        "\n",
        "# Añadimos la QFT inversa\n",
        "qpe.compose(QFT(t).inverse(),inplace=True)\n",
        "\n",
        "qpe.barrier()\n",
        "\n",
        "# Añadimos las medidas\n",
        "\n",
        "qpe.measure(ancillas, medidas)\n",
        "\n",
        "display(qpe.draw('mpl',style='iqp'))\n",
        "\n",
        "sim = AerSimulator()\n",
        "results = sim.run(transpile(qpe,sim), shots=1024).result()\n",
        "\n",
        "answer = results.get_counts()\n",
        "display(plot_histogram(answer, figsize=(11,5)))"
      ],
      "metadata": {
        "id": "0-CJpsDH_Kca",
        "colab": {
          "base_uri": "https://localhost:8080/",
          "height": 880
        },
        "outputId": "457626f0-ee1c-4db4-aa71-1fc7fd050353"
      },
      "id": "0-CJpsDH_Kca",
      "execution_count": 33,
      "outputs": [
        {
          "output_type": "stream",
          "name": "stderr",
          "text": [
            "/tmp/ipython-input-33-4066975607.py:28: DeprecationWarning: The class ``qiskit.circuit.library.basis_change.qft.QFT`` is deprecated as of Qiskit 2.1. It will be removed in Qiskit 3.0. ('Use qiskit.circuit.library.QFTGate or qiskit.synthesis.qft.synth_qft_full instead, for access to all previous arguments.',)\n",
            "  qpe.compose(QFT(t).inverse(),inplace=True)\n"
          ]
        },
        {
          "output_type": "display_data",
          "data": {
            "text/plain": [
              "<Figure size 2076.29x451.5 with 1 Axes>"
            ],
            "image/png": "[encoded data removed]"
          },
          "metadata": {}
        },
        {
          "output_type": "display_data",
          "data": {
            "text/plain": [
              "<Figure size 1100x500 with 1 Axes>"
            ],
            "image/png": "[encoded data removed]"
          },
          "metadata": {}
        }
      ]
    },
    {
      "cell_type": "markdown",
      "source": [
        "El resultado es $\\tilde{\\theta}=1$. Recordemos que la salida del algoritmo QPE es $2^t\\theta$. En este caso $t=3$, por lo que $\\theta = \\frac{\\tilde{\\theta}}{2^t} = \\frac{1}{8}$"
      ],
      "metadata": {
        "id": "xkWEdQVzNEYS"
      },
      "id": "xkWEdQVzNEYS"
    },
    {
      "cell_type": "markdown",
      "source": [
        "\n",
        "\n",
        "---\n",
        "\n",
        "\n",
        "\n",
        "---\n",
        "\n",
        "\n",
        "\n",
        "---\n",
        "\n"
      ],
      "metadata": {
        "id": "R6_TagYKNUo6"
      },
      "id": "R6_TagYKNUo6"
    },
    {
      "cell_type": "markdown",
      "source": [
        "# **Algoritmo de factorización de Shor** <a name=\"shor\"></a>\n",
        "\n",
        "El algoritmo de Shor ([P.W. Shor, 1994](https://doi.org/10.1109%2Fsfcs.1994.365700)) permite factorizar enteros en un tiempo polinómico ($\\mathcal{O}(\\log N)^3$), a diferencia de los algoritmos clásicos que requieren un tiempo exponencial.\n",
        "\n",
        "**Algoritmo**\n",
        "Sea $N=p\\cdot q$, siendo $p$ y $q$ números primos muy grandes. Dado $N$ buscamos su factorización.\n",
        "\n",
        "Pasos:\n",
        "\n",
        "1. Se elige $a < N$ tal que $\\gcd(N,a) = 1$.\n",
        "2. Se obtiene el período $r$ de la siguiente función:\n",
        "$$\n",
        "f_{a,N}(x) = a^x \\bmod N\n",
        "$$\n",
        "3. Si $r$ es par y $a^{r/2} \\bmod N \\ne N-1$ se tiene que:\n",
        "$$\n",
        "p = \\gcd(a^{r/2}-1, N), q = \\gcd(a^{r/2}+1, N)\n",
        "$$\n",
        "\n",
        "El período de $f_{a,N}(x)$ es el menor entero $r>0$ para el que verifique que $f_{a,N}(r) = 1$. Calcular este período clásicamente tiene complejidad exponencial con $N$.\n",
        "\n",
        "\n",
        "\n"
      ],
      "metadata": {
        "id": "6JBMyXZUNWx2"
      },
      "id": "6JBMyXZUNWx2"
    },
    {
      "cell_type": "markdown",
      "source": [
        "---\n",
        "\n",
        "**Ejemplo**\n",
        "\n",
        "Supongamos $N=15$ y elegimos $a=7$. La función $f_{7,15}(x)$ toma los siguientes valores:"
      ],
      "metadata": {
        "id": "t55sekdQ_9RW"
      },
      "id": "t55sekdQ_9RW"
    },
    {
      "cell_type": "code",
      "source": [
        "N = 15\n",
        "a = 7\n",
        "\n",
        "xvals = np.arange(N)\n",
        "yvals = [np.mod(a**x, N) for x in xvals]\n",
        "\n",
        "print([int(i) for i in yvals])"
      ],
      "metadata": {
        "id": "AgNyPLAxNduo",
        "colab": {
          "base_uri": "https://localhost:8080/"
        },
        "outputId": "af9c81a8-de01-4688-9b1a-4161b39101c1"
      },
      "id": "AgNyPLAxNduo",
      "execution_count": 34,
      "outputs": [
        {
          "output_type": "stream",
          "name": "stdout",
          "text": [
            "[1, 7, 4, 13, 1, 7, 4, 13, 1, 7, 4, 13, 1, 7, 4]\n"
          ]
        }
      ]
    },
    {
      "cell_type": "markdown",
      "source": [
        "Vemos que el período es $r=4$.\n",
        "\n",
        "Podemos representarlo gráficamente:"
      ],
      "metadata": {
        "id": "0deyEc6jNhpX"
      },
      "id": "0deyEc6jNhpX"
    },
    {
      "cell_type": "code",
      "source": [
        "import matplotlib.pyplot as plt\n",
        "fig, ax = plt.subplots()\n",
        "ax.plot(xvals, yvals, linewidth=1, linestyle='dotted', marker='x')\n",
        "ax.set(xlabel='$x$', ylabel='$%i^x$ mod $%i$' % (a, N),\n",
        "       title=\"Ejemplo de la función f para a={0} y N={1}\".format(a,N))\n",
        "try: # Muestra r sobre la gráfica\n",
        "    r = yvals[1:].index(1) +1 # Indice del primer 1 en yvals (sin contar yvals[0])\n",
        "    plt.annotate('', xy=(0,1), xytext=(r,1), arrowprops=dict(arrowstyle='<->'))\n",
        "    plt.annotate('$r=%i$' % r, xy=(r/3,1.5))\n",
        "except ValueError:\n",
        "    print('No puedo encontrar el período. Comprueba que a < N y que no tienen factores comunes.')"
      ],
      "metadata": {
        "id": "bDYKqEjiNkYD",
        "colab": {
          "base_uri": "https://localhost:8080/",
          "height": 472
        },
        "outputId": "42d87db1-71fc-4763-e2b4-3007475287d0"
      },
      "id": "bDYKqEjiNkYD",
      "execution_count": 35,
      "outputs": [
        {
          "output_type": "display_data",
          "data": {
            "text/plain": [
              "<Figure size 640x480 with 1 Axes>"
            ],
            "image/png": "[encoded data removed]"
          },
          "metadata": {}
        }
      ]
    },
    {
      "cell_type": "markdown",
      "source": [
        "Veamos si $a$ y $r$ cumplen lo indicado en el punto 3 anterior ($r$ es par y $a^{r/2} \\bmod N \\ne N-1$)"
      ],
      "metadata": {
        "id": "egWIIW26iVZ6"
      },
      "id": "egWIIW26iVZ6"
    },
    {
      "cell_type": "code",
      "source": [
        "r = 4 # par\n",
        "print(np.mod(a**(r/2), N))\n",
        "print(N-1)"
      ],
      "metadata": {
        "id": "oTkkMhlpiUjO",
        "colab": {
          "base_uri": "https://localhost:8080/"
        },
        "outputId": "07c2f1cc-7107-47ed-8a9c-2db633a0d488"
      },
      "id": "oTkkMhlpiUjO",
      "execution_count": 36,
      "outputs": [
        {
          "output_type": "stream",
          "name": "stdout",
          "text": [
            "4.0\n",
            "14\n"
          ]
        }
      ]
    },
    {
      "cell_type": "markdown",
      "source": [
        "Como $a$ y $r$ cumplen lo indicado en el punto 3 anterior:\n",
        "\n",
        "$$\n",
        "p = \\gcd(a^{r/2}-1, N) = \\gcd(48, 15) = 3 \\\\[10pt]\n",
        "q = \\gcd(a^{r/2}+1, N) = \\gcd(50, 15) = 5\n",
        "$$\n",
        "\n",
        "\n",
        "\n",
        "---\n",
        "\n"
      ],
      "metadata": {
        "id": "jQMNx0hs-nf9"
      },
      "id": "jQMNx0hs-nf9"
    },
    {
      "cell_type": "code",
      "source": [
        "temp = int(a**(r/2))\n",
        "p = np.gcd(temp-1,N)\n",
        "q = np.gcd(temp+1,N)\n",
        "print('p = {}, q = {}, p*q = {}'.format(p,q,N))"
      ],
      "metadata": {
        "id": "eZ2oA5iti1K0",
        "colab": {
          "base_uri": "https://localhost:8080/"
        },
        "outputId": "14ace8d3-6133-4894-e496-c252c82143fd"
      },
      "id": "eZ2oA5iti1K0",
      "execution_count": 32,
      "outputs": [
        {
          "output_type": "stream",
          "name": "stdout",
          "text": [
            "p = 3, q = 5, p*q = 15\n"
          ]
        }
      ]
    },
    {
      "cell_type": "markdown",
      "source": [
        "### Solución cuántica al cálculo del período\n",
        "\n",
        "El algoritmo de Shor usa [QPE](#qpe) sobre el operador unitario:\n",
        "\n",
        "$$U|y\\rangle = |ay \\bmod N\\rangle$$\n",
        "\n",
        "Al realizar sucesivas aplicaciones de $U$ sobre $|1\\rangle$ vamos a ir obteniendo estados que corresponden a los valores de $f_{a,N}$.\n",
        "\n",
        "Por ejemplo, con $a=7$ y $N = 15$:\n",
        "$$\\begin{aligned}\n",
        "U^0|1\\rangle &= |1\\rangle \\\\\n",
        "U^1|1\\rangle &= |7 \\bmod 15\\rangle = |7\\rangle \\\\\n",
        "U^2|1\\rangle &= UU|1\\rangle = U|7\\rangle = |49 \\bmod 15\\rangle = |4\\rangle \\\\\n",
        "U^3|1\\rangle &= UU^2|1\\rangle = U|4\\rangle = |28 \\bmod 15\\rangle = |13\\rangle\\\\\n",
        "U^4|1\\rangle &= UU^3|1\\rangle = U|13\\rangle = |91 \\bmod 15\\rangle = |1\\rangle\\\\\n",
        "U^5|1\\rangle &= UU^4|1\\rangle = U|1\\rangle = |7\\rangle\n",
        "\\end{aligned}$$\n"
      ],
      "metadata": {
        "id": "1RXf1I3wOKqn"
      },
      "id": "1RXf1I3wOKqn"
    },
    {
      "cell_type": "markdown",
      "source": [
        "\n",
        "\n",
        "Los autoestados de $U$ tienen la siguiente forma:\n",
        "\n",
        "$$\n",
        "|u_s\\rangle = \\tfrac{1}{\\sqrt{r}}\\sum_{k=0}^{r-1}{e^{-\\tfrac{2\\pi i s k}{r}}|a^k \\bmod N\\rangle}\n",
        "$$\n",
        "\n",
        "con $s$ entero y $0\\leq s < r$.\n",
        "\n",
        "El autovalor asociado a $|u_s\\rangle$ es $e^{\\tfrac{2\\pi i s}{r}}$:\n",
        "\n",
        "$$U|u_s\\rangle = e^{\\tfrac{2\\pi i s}{r}}|u_s\\rangle\n",
        "$$\n",
        "\n",
        "<details>\n",
        "<summary>Ejemplos de $|u_s\\rangle$</summary>\n",
        "Con $a=7$ y $N = 15$ ($r=4$)\n",
        "\n",
        "$s=0$:\n",
        "\n",
        "$$\n",
        "|u_0\\rangle = \\tfrac{1}{\\sqrt{4}}\\sum_{k=0}^{3}|7^k \\bmod 15\\rangle = \\tfrac{1}{2}(|1\\rangle + |7\\rangle + |4\\rangle + |13\\rangle)\n",
        "$$\n",
        "\n",
        "El autovalor asociado es 1:\n",
        "$$\\begin{aligned}\n",
        "U|u_0\\rangle &= \\tfrac{1}{\\sqrt{4}}(U|1\\rangle + U|7\\rangle + U|4\\rangle + U|13\\rangle) \\\\[10pt]\n",
        " &= \\tfrac{1}{\\sqrt{4}}(|7\\rangle + |4\\rangle + |13\\rangle + |1\\rangle) \\\\[10pt]\n",
        " &= |u_0\\rangle\n",
        "\\end{aligned}$$\n",
        "\n",
        "$s=1$:\n",
        "\n",
        "$$\n",
        "|u_1\\rangle = \\tfrac{1}{\\sqrt{4}}\\left(|1\\rangle + e^{-\\tfrac{2\\pi i}{4}}|7\\rangle + e^{-\\tfrac{2\\pi i2}{4}}|4\\rangle + e^{-\\tfrac{2\\pi i3}{4}}|13\\rangle\\right)\n",
        "$$\n",
        "\n",
        "El autovalor asociado es $e^\\tfrac{2\\pi i}{4}$:\n",
        "\n",
        "$$\\begin{aligned}\n",
        "U|u_1\\rangle &= \\tfrac{1}{\\sqrt{4}}\\left(U|1\\rangle + e^{-\\tfrac{2\\pi i}{4}}U|7\\rangle + e^{-\\tfrac{2\\pi i2}{4}}U|4\\rangle + e^{-\\tfrac{2\\pi i3}{4}}U|13\\rangle\\right) \\\\[10pt]\n",
        " &= \\tfrac{1}{\\sqrt{4}}\\left(|7\\rangle + e^{-\\tfrac{2\\pi i}{4}}|4\\rangle + e^{-\\tfrac{2\\pi i2}{4}}|13\\rangle + e^{-\\tfrac{2\\pi i3}{4}}|1\\rangle\\right) \\\\[10pt]\n",
        " &= \\tfrac{1}{\\sqrt{4}}e^\\tfrac{2\\pi i}{4}\\left(e^{-\\tfrac{2\\pi i}{4}}|7\\rangle + e^{-\\tfrac{2\\pi i2}{4}}|4\\rangle + e^{-\\tfrac{2\\pi i3}{4}}|13\\rangle + e^{-\\tfrac{2\\pi i4}{4}}|1\\rangle\\right) \\\\[10pt]\n",
        " &= e^\\tfrac{2\\pi i}{4}|u_1\\rangle\n",
        "\\end{aligned}$$\n",
        "\n",
        "\n",
        "-----\n",
        "</details>\n",
        "\n",
        "\n",
        "Además, se puede comprobar que se verifica lo siguiente:\n",
        "\n",
        "$$ \\tfrac{1}{\\sqrt{r}}\\sum_{s=0}^{r-1} |u_s\\rangle = |1\\rangle$$\n",
        "\n",
        "<details>\n",
        "<summary>Ejemplo de esta suma</summary>\n",
        "Con $a=7$ y $N = 15$ ($r=4$):\n",
        "\n",
        "$$\\begin{aligned}\n",
        "|u_0\\rangle &= \\tfrac{1}{2}(|1\\rangle \\hphantom{e^{-\\tfrac{2\\pi i}{12}}}+ |7\\rangle \\hphantom{e^{-\\tfrac{12\\pi i}{12}}} + |4\\rangle \\hphantom{e^{-\\tfrac{12\\pi i}{12}}} + |13\\rangle) \\\\[10pt]\n",
        "|u_1\\rangle &= \\tfrac{1}{2}(|1\\rangle + e^{-\\tfrac{2\\pi i}{4}}|7\\rangle + e^{-\\tfrac{\\hphantom{1}4\\pi i}{4}}|4\\rangle + e^{-\\tfrac{\\hphantom{1}6\\pi i}{4}}|13\\rangle) \\\\[10pt]\n",
        "|u_2\\rangle &= \\tfrac{1}{2}(|1\\rangle + e^{-\\tfrac{4\\pi i}{4}}|7\\rangle + e^{-\\tfrac{\\hphantom{1}8\\pi i}{4}}|4\\rangle + e^{-\\tfrac{12\\pi i}{4}}|13\\rangle)\\\\[10pt]\n",
        "|u_3\\rangle &= \\tfrac{1}{2}(|1\\rangle + e^{-\\tfrac{6\\pi i}{4}}|7\\rangle + e^{-\\tfrac{12\\pi i}{4}}|4\\rangle + e^{-\\tfrac{18\\pi i}{4}}|13\\rangle)\n",
        "\\end{aligned}$$\n",
        "\n",
        "Con lo que la suma es:\n",
        "\n",
        "$$\n",
        "\\tfrac{1}{\\sqrt{4}}\\sum_{s=0}^{3} |u_s\\rangle = \\tfrac{1}{2}(|u_0\\rangle + |u_1\\rangle + |u_1\\rangle + |u_3\\rangle) = \\\\\n",
        "\\frac{1}{2}\\left(4|1\\rangle + (1+e^{-\\tfrac{2\\pi i}{4}}+e^{-\\tfrac{4\\pi i}{4}}+e^{-\\tfrac{6\\pi i}{4}})|7\\rangle +\\\\\n",
        "(1+e^{-\\tfrac{\\hphantom{1}4\\pi i}{4}}+e^{-\\tfrac{\\hphantom{1}8\\pi i}{4}}|4\\rangle+e^{-\\tfrac{12\\pi i}{4}})|4\\rangle \\\\\n",
        "+ (1+e^{-\\tfrac{\\hphantom{1}6\\pi i}{4}}+e^{-\\tfrac{12\\pi i}{4}}+e^{-\\tfrac{18\\pi i}{4}})|13\\rangle\n",
        "\\right)\n",
        "$$\n",
        "\n",
        "Y como:\n",
        "\n",
        "$$\n",
        "\\begin{aligned}\n",
        "e^{-\\tfrac{2\\pi i}{4}} &= e^{-\\tfrac{\\pi i}{2}} = -i\\\\\n",
        "e^{-\\tfrac{4\\pi i}{4}} &= e^{-{\\pi i}} = -1\\\\\n",
        "e^{-\\tfrac{6\\pi i}{4}} &= e^{-\\tfrac{3\\pi i}{2}} = +i\\\\\n",
        "e^{-\\tfrac{8\\pi i}{4}} &= e^{-{2\\pi i}} = e^{0} = +1\\\\\n",
        "e^{-\\tfrac{12\\pi i}{4}} &= e^{-{3\\pi i}} = e^{-{\\pi i}} = -1\\\\\n",
        "e^{-\\tfrac{18\\pi i}{4}} &= e^{-\\tfrac{9\\pi i}{2}} = e^{-\\tfrac{\\pi i}{2}} = -i\n",
        "\\end{aligned}\n",
        "$$\n",
        "\n",
        "queda:\n",
        "\n",
        "$$\n",
        "\\tfrac{1}{\\sqrt{4}}\\sum_{s=0}^{3} |u_s\\rangle = 2|1\\rangle = |1\\rangle\n",
        "$$\n",
        "\n",
        "-----\n",
        "</details>\n",
        "\n",
        "Por tanto, aplicamos $U$ al estado $|1\\rangle$ vamos a poder escribir:\n",
        "\n",
        "$$\n",
        "U|1\\rangle = \\tfrac{1}{\\sqrt{r}}\\sum_{s=0}^{r-1} U|u_s\\rangle = \\tfrac{1}{\\sqrt{r}}\\sum_{s=0}^{r-1} e^{\\tfrac{2\\pi i s}{r}}|u_s\\rangle = \\tfrac{1}{\\sqrt{r}}\\sum_{s=0}^{r-1} e^{2\\pi i \\theta}|u_s\\rangle\n",
        "$$\n",
        "\n",
        "con $\\theta = s/r$.\n",
        "\n",
        "Por lo tanto, si aplicamos QPE a $U$ usando como autoestado $|1\\rangle$, la salida nos va a devolver una fase $\\theta = s/r$, siendo $s$ un entero con $0\\leq s < r$. Obteniendo diferentes autovalores podemos obtener $r$ y, por lo tanto, los factores de $N$."
      ],
      "metadata": {
        "id": "qPBmxetmOc50"
      },
      "id": "qPBmxetmOc50"
    },
    {
      "cell_type": "markdown",
      "source": [
        "El esquema de un circuito que implementa este algoritmo (con el orden de cúbits usado en qiskit) es:\n",
        "\n",
        "\n",
        "<center><img src=\"https://drive.google.com/uc?export=view&id=1BDRZ8e_I8tmIzB2taOi_UuaBqt9e0xcR\" alt=\"Circuito Shor\" width=\"1000\"  /></center>\n",
        "\n",
        "\n",
        "El cuello de botella del algoritmo de Shor reside en la creación de las puertas $U^{2^j}$. Existen diferentes alternativas. Un ejemplo simple está descrito en [S. Beauregard, 2003](https://arxiv.org/abs/quant-ph/0205095). Una implementación reciente para los sistemas de IBM está en [U. Skosana & M. Tame, 2021](https://doi.org/10.1038/s41598-021-95973-w). En [C. Gidney & M. Ekerå (2021)](https://doi.org/10.22331/q-2021-04-15-433) se demuestra que con 20 millones de cúbits con ruido se puede romper el algoritmo RSA de 2048 bits en solo 8 horas."
      ],
      "metadata": {
        "id": "RZBk82iwCEDH"
      },
      "id": "RZBk82iwCEDH"
    },
    {
      "cell_type": "code",
      "source": [],
      "metadata": {
        "id": "DoYsK0aNntGm"
      },
      "id": "DoYsK0aNntGm",
      "execution_count": null,
      "outputs": []
    }
  ],
  "metadata": {
    "kernelspec": {
      "display_name": "Python 3",
      "name": "python3"
    },
    "language_info": {
      "codemirror_mode": {
        "name": "ipython",
        "version": 3
      },
      "file_extension": ".py",
      "mimetype": "text/x-python",
      "name": "python",
      "nbconvert_exporter": "python",
      "pygments_lexer": "ipython3",
      "version": "3.11.4"
    },
    "colab": {
      "provenance": [],
      "cell_execution_strategy": "setup",
      "include_colab_link": true
    }
  },
  "nbformat": 4,
  "nbformat_minor": 5
}